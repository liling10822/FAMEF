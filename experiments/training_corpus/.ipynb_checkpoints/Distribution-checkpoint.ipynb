{
 "cells": [
  {
   "cell_type": "markdown",
   "metadata": {},
   "source": [
    "# Notebook to balance corpus"
   ]
  },
  {
   "cell_type": "code",
   "execution_count": 1,
   "metadata": {},
   "outputs": [
    {
     "name": "stderr",
     "output_type": "stream",
     "text": [
      "[nltk_data] Downloading package treebank to\n",
      "[nltk_data]     /Users/sharadsharma/nltk_data...\n",
      "[nltk_data]   Package treebank is already up-to-date!\n"
     ]
    }
   ],
   "source": [
    "import random\n",
    "import pandas as pd\n",
    "import nltk\n",
    "from nltk.corpus import treebank\n",
    "#Encounter some errors when we downloaded treebank, so use ssl\n",
    "import ssl\n",
    "try:\n",
    "    _create_unverified_https_context=ssl._create_unverified_context\n",
    "except AttributeError:\n",
    "    pass\n",
    "else:\n",
    "    ssl._create_default_https_context = _create_unverified_https_context\n",
    "nltk.download('treebank')\n",
    "#----------Download End-------------------\n",
    "\n",
    "categories = ('extended_description', 'extended_installation', 'extended_invocation', 'extended_citation')\n",
    "\n",
    "\n",
    "def build_corpora():\n",
    "    corpora = {}\n",
    "    for cat in categories:\n",
    "        corpora[cat] = build_corpus(cat)\n",
    "    return corpora\n",
    "\n",
    "def build_corpus(selected_category):\n",
    "    categories_df = {cat : pd.read_csv(f\"./{cat}.csv\") for cat in categories}\n",
    "    negative_sample_size = int(len(categories_df[selected_category]) / 4)\n",
    "    print(f\"Selected Category: {selected_category}\")\n",
    "    for category in categories_df:\n",
    "        categories_df[category].drop('URL', 1, inplace=True)\n",
    "        if category != selected_category:\n",
    "            categories_df[category] = categories_df[category].sample(negative_sample_size)\n",
    "        categories_df[category] = categories_df[category].assign(**{selected_category: category == selected_category})\n",
    "        print(\"{} has {} samples;\".format(category, len(categories_df[category])))\n",
    "        #print(categories_df[category].head())\n",
    "    treebank_background = pd.DataFrame(map(lambda sent: ' '.join(sent), random.sample(list(treebank.sents()), negative_sample_size)), columns=[\"excerpt\"]).assign(description=False)\n",
    "    #print(\"Treebank has {} samples.\".format(len(treebank_background)))\n",
    "    #print(\"categories_df\")\n",
    "    corpus = pd.concat(categories_df.values(), ignore_index=True, sort=False)\n",
    "    corpus.append(treebank_background, ignore_index=True, sort=False)\n",
    "    corpus.fillna(value='', inplace=True)\n",
    "    return corpus\n",
    "    \n"
   ]
  },
  {
   "cell_type": "code",
   "execution_count": 2,
   "metadata": {},
   "outputs": [
    {
     "name": "stdout",
     "output_type": "stream",
     "text": [
      "Selected Category: extended_description\n",
      "extended_description has 414 samples;\n",
      "extended_installation has 103 samples;\n",
      "extended_invocation has 103 samples;\n",
      "extended_citation has 103 samples;\n",
      "Selected Category: extended_installation\n",
      "extended_description has 274 samples;\n",
      "extended_installation has 1096 samples;\n",
      "extended_invocation has 274 samples;\n",
      "extended_citation has 274 samples;\n",
      "Selected Category: extended_invocation\n",
      "extended_description has 380 samples;\n",
      "extended_installation has 380 samples;\n",
      "extended_invocation has 1523 samples;\n",
      "extended_citation has 380 samples;\n",
      "Selected Category: extended_citation\n",
      "extended_description has 102 samples;\n",
      "extended_installation has 102 samples;\n",
      "extended_invocation has 102 samples;\n",
      "extended_citation has 409 samples;\n"
     ]
    }
   ],
   "source": [
    "corpus =build_corpora()"
   ]
  },
  {
   "cell_type": "code",
   "execution_count": 3,
   "metadata": {},
   "outputs": [
    {
     "data": {
      "text/html": [
       "<div>\n",
       "<style scoped>\n",
       "    .dataframe tbody tr th:only-of-type {\n",
       "        vertical-align: middle;\n",
       "    }\n",
       "\n",
       "    .dataframe tbody tr th {\n",
       "        vertical-align: top;\n",
       "    }\n",
       "\n",
       "    .dataframe thead th {\n",
       "        text-align: right;\n",
       "    }\n",
       "</style>\n",
       "<table border=\"1\" class=\"dataframe\">\n",
       "  <thead>\n",
       "    <tr style=\"text-align: right;\">\n",
       "      <th></th>\n",
       "      <th>Unnamed: 0</th>\n",
       "      <th>contributor</th>\n",
       "      <th>excerpt</th>\n",
       "      <th>extended_installation</th>\n",
       "    </tr>\n",
       "  </thead>\n",
       "  <tbody>\n",
       "    <tr>\n",
       "      <td>0</td>\n",
       "      <td>217</td>\n",
       "      <td>Allen Mao</td>\n",
       "      <td>spatial regression and statistical modeling on...</td>\n",
       "      <td>False</td>\n",
       "    </tr>\n",
       "    <tr>\n",
       "      <td>1</td>\n",
       "      <td>61</td>\n",
       "      <td>Allen Mao</td>\n",
       "      <td>The implementations of these metrics could be ...</td>\n",
       "      <td>False</td>\n",
       "    </tr>\n",
       "    <tr>\n",
       "      <td>2</td>\n",
       "      <td>288</td>\n",
       "      <td>Rosna Thomas</td>\n",
       "      <td>ResNeXt is a simple, highly modularized networ...</td>\n",
       "      <td>False</td>\n",
       "    </tr>\n",
       "    <tr>\n",
       "      <td>3</td>\n",
       "      <td>3</td>\n",
       "      <td>Allen Mao</td>\n",
       "      <td>We build a 3D pose estimation system based mai...</td>\n",
       "      <td>False</td>\n",
       "    </tr>\n",
       "    <tr>\n",
       "      <td>4</td>\n",
       "      <td>411</td>\n",
       "      <td>Ling Li</td>\n",
       "      <td>(un/supervised learning, reinforcement learnin...</td>\n",
       "      <td>False</td>\n",
       "    </tr>\n",
       "    <tr>\n",
       "      <td>...</td>\n",
       "      <td>...</td>\n",
       "      <td>...</td>\n",
       "      <td>...</td>\n",
       "      <td>...</td>\n",
       "    </tr>\n",
       "    <tr>\n",
       "      <td>1913</td>\n",
       "      <td>201</td>\n",
       "      <td>Allen Mao</td>\n",
       "      <td>Muhammed Kocabas, Salih Karagoz, Emre Akbas. M...</td>\n",
       "      <td>False</td>\n",
       "    </tr>\n",
       "    <tr>\n",
       "      <td>1914</td>\n",
       "      <td>3</td>\n",
       "      <td>Allen Mao</td>\n",
       "      <td>author={Sun, Xiao and Xiao, Bin and Liang, Shu...</td>\n",
       "      <td>False</td>\n",
       "    </tr>\n",
       "    <tr>\n",
       "      <td>1915</td>\n",
       "      <td>151</td>\n",
       "      <td>Allen Mao</td>\n",
       "      <td>@inproceedings{dai16rfcn,</td>\n",
       "      <td>False</td>\n",
       "    </tr>\n",
       "    <tr>\n",
       "      <td>1916</td>\n",
       "      <td>61</td>\n",
       "      <td>Allen Mao</td>\n",
       "      <td>For a more detailed elaboration of the theory ...</td>\n",
       "      <td>False</td>\n",
       "    </tr>\n",
       "    <tr>\n",
       "      <td>1917</td>\n",
       "      <td>244</td>\n",
       "      <td>Allen Mao</td>\n",
       "      <td>@inproceedings{tang2018quantized,</td>\n",
       "      <td>False</td>\n",
       "    </tr>\n",
       "  </tbody>\n",
       "</table>\n",
       "<p>1918 rows × 4 columns</p>\n",
       "</div>"
      ],
      "text/plain": [
       "      Unnamed: 0   contributor  \\\n",
       "0            217     Allen Mao   \n",
       "1             61     Allen Mao   \n",
       "2            288  Rosna Thomas   \n",
       "3              3     Allen Mao   \n",
       "4            411       Ling Li   \n",
       "...          ...           ...   \n",
       "1913         201     Allen Mao   \n",
       "1914           3     Allen Mao   \n",
       "1915         151     Allen Mao   \n",
       "1916          61     Allen Mao   \n",
       "1917         244     Allen Mao   \n",
       "\n",
       "                                                excerpt  extended_installation  \n",
       "0     spatial regression and statistical modeling on...                  False  \n",
       "1     The implementations of these metrics could be ...                  False  \n",
       "2     ResNeXt is a simple, highly modularized networ...                  False  \n",
       "3     We build a 3D pose estimation system based mai...                  False  \n",
       "4     (un/supervised learning, reinforcement learnin...                  False  \n",
       "...                                                 ...                    ...  \n",
       "1913  Muhammed Kocabas, Salih Karagoz, Emre Akbas. M...                  False  \n",
       "1914  author={Sun, Xiao and Xiao, Bin and Liang, Shu...                  False  \n",
       "1915                          @inproceedings{dai16rfcn,                  False  \n",
       "1916  For a more detailed elaboration of the theory ...                  False  \n",
       "1917                  @inproceedings{tang2018quantized,                  False  \n",
       "\n",
       "[1918 rows x 4 columns]"
      ]
     },
     "execution_count": 3,
     "metadata": {},
     "output_type": "execute_result"
    }
   ],
   "source": [
    "corpus['extended_installation']"
   ]
  },
  {
   "cell_type": "code",
   "execution_count": 4,
   "metadata": {},
   "outputs": [],
   "source": [
    "corpus['extended_citation'].drop(columns=['Unnamed: 0'],inplace=True)"
   ]
  },
  {
   "cell_type": "code",
   "execution_count": 5,
   "metadata": {},
   "outputs": [
    {
     "data": {
      "text/html": [
       "<div>\n",
       "<style scoped>\n",
       "    .dataframe tbody tr th:only-of-type {\n",
       "        vertical-align: middle;\n",
       "    }\n",
       "\n",
       "    .dataframe tbody tr th {\n",
       "        vertical-align: top;\n",
       "    }\n",
       "\n",
       "    .dataframe thead th {\n",
       "        text-align: right;\n",
       "    }\n",
       "</style>\n",
       "<table border=\"1\" class=\"dataframe\">\n",
       "  <thead>\n",
       "    <tr style=\"text-align: right;\">\n",
       "      <th></th>\n",
       "      <th>contributor</th>\n",
       "      <th>excerpt</th>\n",
       "      <th>extended_citation</th>\n",
       "    </tr>\n",
       "  </thead>\n",
       "  <tbody>\n",
       "    <tr>\n",
       "      <td>0</td>\n",
       "      <td>Allen Mao</td>\n",
       "      <td>The writing functionality in segyio is largely...</td>\n",
       "      <td>False</td>\n",
       "    </tr>\n",
       "    <tr>\n",
       "      <td>1</td>\n",
       "      <td>Allen Mao</td>\n",
       "      <td>Only the core needs:</td>\n",
       "      <td>False</td>\n",
       "    </tr>\n",
       "    <tr>\n",
       "      <td>2</td>\n",
       "      <td>Allen Mao</td>\n",
       "      <td>FGFA is end-to-end trainable for the task of v...</td>\n",
       "      <td>False</td>\n",
       "    </tr>\n",
       "    <tr>\n",
       "      <td>3</td>\n",
       "      <td>Allen Mao</td>\n",
       "      <td>Features</td>\n",
       "      <td>False</td>\n",
       "    </tr>\n",
       "    <tr>\n",
       "      <td>4</td>\n",
       "      <td>Allen Mao</td>\n",
       "      <td>Luckily, many iterative methods (e.g. cg, lsqr...</td>\n",
       "      <td>False</td>\n",
       "    </tr>\n",
       "    <tr>\n",
       "      <td>...</td>\n",
       "      <td>...</td>\n",
       "      <td>...</td>\n",
       "      <td>...</td>\n",
       "    </tr>\n",
       "    <tr>\n",
       "      <td>710</td>\n",
       "      <td>Yi Xie</td>\n",
       "      <td>Spike Brehm @spikebrehm</td>\n",
       "      <td>True</td>\n",
       "    </tr>\n",
       "    <tr>\n",
       "      <td>711</td>\n",
       "      <td>Yi Xie</td>\n",
       "      <td>Stefan Vermaas @stefanvermaas</td>\n",
       "      <td>True</td>\n",
       "    </tr>\n",
       "    <tr>\n",
       "      <td>712</td>\n",
       "      <td>Yi Xie</td>\n",
       "      <td>Deqing Li, Honghui Mei, Yi Shen, Shuang Su, We...</td>\n",
       "      <td>True</td>\n",
       "    </tr>\n",
       "    <tr>\n",
       "      <td>713</td>\n",
       "      <td>Yi Xie</td>\n",
       "      <td>MIT License.</td>\n",
       "      <td>True</td>\n",
       "    </tr>\n",
       "    <tr>\n",
       "      <td>714</td>\n",
       "      <td>Yi Xie</td>\n",
       "      <td>Copyright (c) 2014 Ryzac, Inc.</td>\n",
       "      <td>True</td>\n",
       "    </tr>\n",
       "  </tbody>\n",
       "</table>\n",
       "<p>715 rows × 3 columns</p>\n",
       "</div>"
      ],
      "text/plain": [
       "    contributor                                            excerpt  \\\n",
       "0     Allen Mao  The writing functionality in segyio is largely...   \n",
       "1     Allen Mao                               Only the core needs:   \n",
       "2     Allen Mao  FGFA is end-to-end trainable for the task of v...   \n",
       "3     Allen Mao                                           Features   \n",
       "4     Allen Mao  Luckily, many iterative methods (e.g. cg, lsqr...   \n",
       "..          ...                                                ...   \n",
       "710      Yi Xie                            Spike Brehm @spikebrehm   \n",
       "711      Yi Xie                      Stefan Vermaas @stefanvermaas   \n",
       "712      Yi Xie  Deqing Li, Honghui Mei, Yi Shen, Shuang Su, We...   \n",
       "713      Yi Xie                                       MIT License.   \n",
       "714      Yi Xie                     Copyright (c) 2014 Ryzac, Inc.   \n",
       "\n",
       "     extended_citation  \n",
       "0                False  \n",
       "1                False  \n",
       "2                False  \n",
       "3                False  \n",
       "4                False  \n",
       "..                 ...  \n",
       "710               True  \n",
       "711               True  \n",
       "712               True  \n",
       "713               True  \n",
       "714               True  \n",
       "\n",
       "[715 rows x 3 columns]"
      ]
     },
     "execution_count": 5,
     "metadata": {},
     "output_type": "execute_result"
    }
   ],
   "source": [
    "corpus['extended_citation']"
   ]
  },
  {
   "cell_type": "code",
   "execution_count": 6,
   "metadata": {},
   "outputs": [],
   "source": [
    "corpus['extended_description'].drop(columns=['Unnamed: 0'],inplace=True)"
   ]
  },
  {
   "cell_type": "code",
   "execution_count": 7,
   "metadata": {},
   "outputs": [
    {
     "data": {
      "text/html": [
       "<div>\n",
       "<style scoped>\n",
       "    .dataframe tbody tr th:only-of-type {\n",
       "        vertical-align: middle;\n",
       "    }\n",
       "\n",
       "    .dataframe tbody tr th {\n",
       "        vertical-align: top;\n",
       "    }\n",
       "\n",
       "    .dataframe thead th {\n",
       "        text-align: right;\n",
       "    }\n",
       "</style>\n",
       "<table border=\"1\" class=\"dataframe\">\n",
       "  <thead>\n",
       "    <tr style=\"text-align: right;\">\n",
       "      <th></th>\n",
       "      <th>contributor</th>\n",
       "      <th>excerpt</th>\n",
       "      <th>extended_description</th>\n",
       "    </tr>\n",
       "  </thead>\n",
       "  <tbody>\n",
       "    <tr>\n",
       "      <td>0</td>\n",
       "      <td>Allen Mao</td>\n",
       "      <td>Puppeteer is a Node library which provides a h...</td>\n",
       "      <td>True</td>\n",
       "    </tr>\n",
       "    <tr>\n",
       "      <td>1</td>\n",
       "      <td>Allen Mao</td>\n",
       "      <td>The major contributors of this repository incl...</td>\n",
       "      <td>True</td>\n",
       "    </tr>\n",
       "    <tr>\n",
       "      <td>2</td>\n",
       "      <td>Allen Mao</td>\n",
       "      <td>Integral Regression is initially described in ...</td>\n",
       "      <td>True</td>\n",
       "    </tr>\n",
       "    <tr>\n",
       "      <td>3</td>\n",
       "      <td>Allen Mao</td>\n",
       "      <td>We build a 3D pose estimation system based mai...</td>\n",
       "      <td>True</td>\n",
       "    </tr>\n",
       "    <tr>\n",
       "      <td>4</td>\n",
       "      <td>Allen Mao</td>\n",
       "      <td>The Integral Regression is also known as soft-...</td>\n",
       "      <td>True</td>\n",
       "    </tr>\n",
       "    <tr>\n",
       "      <td>...</td>\n",
       "      <td>...</td>\n",
       "      <td>...</td>\n",
       "      <td>...</td>\n",
       "    </tr>\n",
       "    <tr>\n",
       "      <td>718</td>\n",
       "      <td>Yi Xie</td>\n",
       "      <td>Deqing Li, Honghui Mei, Yi Shen, Shuang Su, We...</td>\n",
       "      <td>False</td>\n",
       "    </tr>\n",
       "    <tr>\n",
       "      <td>719</td>\n",
       "      <td>Allen Mao</td>\n",
       "      <td>If you find this code useful for your research...</td>\n",
       "      <td>False</td>\n",
       "    </tr>\n",
       "    <tr>\n",
       "      <td>720</td>\n",
       "      <td>Pratheek</td>\n",
       "      <td>journal = {Journal of Open Source Software}</td>\n",
       "      <td>False</td>\n",
       "    </tr>\n",
       "    <tr>\n",
       "      <td>721</td>\n",
       "      <td>Rosna Thomas</td>\n",
       "      <td>title={DensePose: Dense Human Pose Estimatio...</td>\n",
       "      <td>False</td>\n",
       "    </tr>\n",
       "    <tr>\n",
       "      <td>722</td>\n",
       "      <td>Allen Mao</td>\n",
       "      <td>booktitle = {The IEEE Conference on Computer V...</td>\n",
       "      <td>False</td>\n",
       "    </tr>\n",
       "  </tbody>\n",
       "</table>\n",
       "<p>723 rows × 3 columns</p>\n",
       "</div>"
      ],
      "text/plain": [
       "      contributor                                            excerpt  \\\n",
       "0       Allen Mao  Puppeteer is a Node library which provides a h...   \n",
       "1       Allen Mao  The major contributors of this repository incl...   \n",
       "2       Allen Mao  Integral Regression is initially described in ...   \n",
       "3       Allen Mao  We build a 3D pose estimation system based mai...   \n",
       "4       Allen Mao  The Integral Regression is also known as soft-...   \n",
       "..            ...                                                ...   \n",
       "718        Yi Xie  Deqing Li, Honghui Mei, Yi Shen, Shuang Su, We...   \n",
       "719     Allen Mao  If you find this code useful for your research...   \n",
       "720      Pratheek        journal = {Journal of Open Source Software}   \n",
       "721  Rosna Thomas    title={DensePose: Dense Human Pose Estimatio...   \n",
       "722     Allen Mao  booktitle = {The IEEE Conference on Computer V...   \n",
       "\n",
       "     extended_description  \n",
       "0                    True  \n",
       "1                    True  \n",
       "2                    True  \n",
       "3                    True  \n",
       "4                    True  \n",
       "..                    ...  \n",
       "718                 False  \n",
       "719                 False  \n",
       "720                 False  \n",
       "721                 False  \n",
       "722                 False  \n",
       "\n",
       "[723 rows x 3 columns]"
      ]
     },
     "execution_count": 7,
     "metadata": {},
     "output_type": "execute_result"
    }
   ],
   "source": [
    "corpus['extended_description']"
   ]
  },
  {
   "cell_type": "code",
   "execution_count": 8,
   "metadata": {},
   "outputs": [],
   "source": [
    "corpus['extended_invocation'].drop(columns=['Unnamed: 0'],inplace=True)"
   ]
  },
  {
   "cell_type": "code",
   "execution_count": 9,
   "metadata": {},
   "outputs": [
    {
     "data": {
      "text/html": [
       "<div>\n",
       "<style scoped>\n",
       "    .dataframe tbody tr th:only-of-type {\n",
       "        vertical-align: middle;\n",
       "    }\n",
       "\n",
       "    .dataframe tbody tr th {\n",
       "        vertical-align: top;\n",
       "    }\n",
       "\n",
       "    .dataframe thead th {\n",
       "        text-align: right;\n",
       "    }\n",
       "</style>\n",
       "<table border=\"1\" class=\"dataframe\">\n",
       "  <thead>\n",
       "    <tr style=\"text-align: right;\">\n",
       "      <th></th>\n",
       "      <th>contributor</th>\n",
       "      <th>excerpt</th>\n",
       "      <th>extended_invocation</th>\n",
       "    </tr>\n",
       "  </thead>\n",
       "  <tbody>\n",
       "    <tr>\n",
       "      <td>0</td>\n",
       "      <td>Pratheek</td>\n",
       "      <td>Mixed precision training support through APEX ...</td>\n",
       "      <td>False</td>\n",
       "    </tr>\n",
       "    <tr>\n",
       "      <td>1</td>\n",
       "      <td>Allen Mao</td>\n",
       "      <td>tiles server for live feedback when coding</td>\n",
       "      <td>False</td>\n",
       "    </tr>\n",
       "    <tr>\n",
       "      <td>2</td>\n",
       "      <td>Allen Mao</td>\n",
       "      <td>TensorFlow provides stable Python and C APIs a...</td>\n",
       "      <td>False</td>\n",
       "    </tr>\n",
       "    <tr>\n",
       "      <td>3</td>\n",
       "      <td>Allen Mao</td>\n",
       "      <td>We proposed to evaluate the detection accuracy...</td>\n",
       "      <td>False</td>\n",
       "    </tr>\n",
       "    <tr>\n",
       "      <td>4</td>\n",
       "      <td>Allen Mao</td>\n",
       "      <td>Just so you get an idea, it took NYPL staff co...</td>\n",
       "      <td>False</td>\n",
       "    </tr>\n",
       "    <tr>\n",
       "      <td>...</td>\n",
       "      <td>...</td>\n",
       "      <td>...</td>\n",
       "      <td>...</td>\n",
       "    </tr>\n",
       "    <tr>\n",
       "      <td>2658</td>\n",
       "      <td>Allen Mao</td>\n",
       "      <td>Citation</td>\n",
       "      <td>False</td>\n",
       "    </tr>\n",
       "    <tr>\n",
       "      <td>2659</td>\n",
       "      <td>Allen Mao</td>\n",
       "      <td>author={Sun, Xiao and Xiao, Bin and Liang, Shu...</td>\n",
       "      <td>False</td>\n",
       "    </tr>\n",
       "    <tr>\n",
       "      <td>2660</td>\n",
       "      <td>Allen Mao</td>\n",
       "      <td>title =        {Detectron},</td>\n",
       "      <td>False</td>\n",
       "    </tr>\n",
       "    <tr>\n",
       "      <td>2661</td>\n",
       "      <td>Allen Mao</td>\n",
       "      <td>author={Johnson, Justin and Gupta, Agrim and F...</td>\n",
       "      <td>False</td>\n",
       "    </tr>\n",
       "    <tr>\n",
       "      <td>2662</td>\n",
       "      <td>Ling Li</td>\n",
       "      <td>}</td>\n",
       "      <td>False</td>\n",
       "    </tr>\n",
       "  </tbody>\n",
       "</table>\n",
       "<p>2663 rows × 3 columns</p>\n",
       "</div>"
      ],
      "text/plain": [
       "     contributor                                            excerpt  \\\n",
       "0       Pratheek  Mixed precision training support through APEX ...   \n",
       "1      Allen Mao         tiles server for live feedback when coding   \n",
       "2      Allen Mao  TensorFlow provides stable Python and C APIs a...   \n",
       "3      Allen Mao  We proposed to evaluate the detection accuracy...   \n",
       "4      Allen Mao  Just so you get an idea, it took NYPL staff co...   \n",
       "...          ...                                                ...   \n",
       "2658   Allen Mao                                           Citation   \n",
       "2659   Allen Mao  author={Sun, Xiao and Xiao, Bin and Liang, Shu...   \n",
       "2660   Allen Mao                        title =        {Detectron},   \n",
       "2661   Allen Mao  author={Johnson, Justin and Gupta, Agrim and F...   \n",
       "2662     Ling Li                                                  }   \n",
       "\n",
       "      extended_invocation  \n",
       "0                   False  \n",
       "1                   False  \n",
       "2                   False  \n",
       "3                   False  \n",
       "4                   False  \n",
       "...                   ...  \n",
       "2658                False  \n",
       "2659                False  \n",
       "2660                False  \n",
       "2661                False  \n",
       "2662                False  \n",
       "\n",
       "[2663 rows x 3 columns]"
      ]
     },
     "execution_count": 9,
     "metadata": {},
     "output_type": "execute_result"
    }
   ],
   "source": [
    "corpus['extended_invocation']"
   ]
  },
  {
   "cell_type": "markdown",
   "metadata": {},
   "source": [
    "# Distribution of Data"
   ]
  },
  {
   "cell_type": "markdown",
   "metadata": {},
   "source": [
    "# For Invocation"
   ]
  },
  {
   "cell_type": "code",
   "execution_count": 10,
   "metadata": {},
   "outputs": [
    {
     "data": {
      "text/plain": [
       "True     1523\n",
       "False    1140\n",
       "Name: extended_invocation, dtype: int64"
      ]
     },
     "execution_count": 10,
     "metadata": {},
     "output_type": "execute_result"
    }
   ],
   "source": [
    "corpus['extended_invocation']['extended_invocation'].value_counts()"
   ]
  },
  {
   "cell_type": "markdown",
   "metadata": {},
   "source": [
    "# For Installation"
   ]
  },
  {
   "cell_type": "code",
   "execution_count": 11,
   "metadata": {},
   "outputs": [
    {
     "data": {
      "text/plain": [
       "True     1096\n",
       "False     822\n",
       "Name: extended_installation, dtype: int64"
      ]
     },
     "execution_count": 11,
     "metadata": {},
     "output_type": "execute_result"
    }
   ],
   "source": [
    "corpus['extended_installation']['extended_installation'].value_counts()"
   ]
  },
  {
   "cell_type": "markdown",
   "metadata": {},
   "source": [
    "# For Citation"
   ]
  },
  {
   "cell_type": "code",
   "execution_count": 12,
   "metadata": {},
   "outputs": [
    {
     "data": {
      "text/plain": [
       "True     409\n",
       "False    306\n",
       "Name: extended_citation, dtype: int64"
      ]
     },
     "execution_count": 12,
     "metadata": {},
     "output_type": "execute_result"
    }
   ],
   "source": [
    "corpus['extended_citation']['extended_citation'].value_counts()"
   ]
  },
  {
   "cell_type": "markdown",
   "metadata": {},
   "source": [
    "# For Description"
   ]
  },
  {
   "cell_type": "code",
   "execution_count": 13,
   "metadata": {},
   "outputs": [
    {
     "data": {
      "text/plain": [
       "True     414\n",
       "False    309\n",
       "Name: extended_description, dtype: int64"
      ]
     },
     "execution_count": 13,
     "metadata": {},
     "output_type": "execute_result"
    }
   ],
   "source": [
    "corpus['extended_description']['extended_description'].value_counts()"
   ]
  },
  {
   "cell_type": "markdown",
   "metadata": {},
   "source": [
    "# Bar Plots"
   ]
  },
  {
   "cell_type": "markdown",
   "metadata": {},
   "source": [
    "# Extended Installation"
   ]
  },
  {
   "cell_type": "code",
   "execution_count": 14,
   "metadata": {},
   "outputs": [
    {
     "data": {
      "text/plain": [
       "<matplotlib.axes._subplots.AxesSubplot at 0x12421e950>"
      ]
     },
     "execution_count": 14,
     "metadata": {},
     "output_type": "execute_result"
    }
   ],
   "source": [
    "corpus['extended_installation']['extended_installation'].value_counts().sort_values().plot(kind = 'bar')"
   ]
  },
  {
   "cell_type": "markdown",
   "metadata": {},
   "source": [
    "# Extended Invocation"
   ]
  },
  {
   "cell_type": "code",
   "execution_count": 15,
   "metadata": {},
   "outputs": [
    {
     "data": {
      "text/plain": [
       "<matplotlib.axes._subplots.AxesSubplot at 0x123ca1910>"
      ]
     },
     "execution_count": 15,
     "metadata": {},
     "output_type": "execute_result"
    },
    {
     "data": {
      "image/png": "[encoded data removed]",
      "text/plain": [
       "<Figure size 432x288 with 1 Axes>"
      ]
     },
     "metadata": {
      "needs_background": "light"
     },
     "output_type": "display_data"
    }
   ],
   "source": [
    "corpus['extended_invocation']['extended_invocation'].value_counts().sort_values().plot(kind = 'bar')"
   ]
  },
  {
   "cell_type": "markdown",
   "metadata": {},
   "source": [
    "# Extended Description"
   ]
  },
  {
   "cell_type": "code",
   "execution_count": 16,
   "metadata": {},
   "outputs": [
    {
     "data": {
      "text/plain": [
       "<matplotlib.axes._subplots.AxesSubplot at 0x124187210>"
      ]
     },
     "execution_count": 16,
     "metadata": {},
     "output_type": "execute_result"
    },
    {
     "data": {
      "image/png": "[encoded data removed]",
      "text/plain": [
       "<Figure size 432x288 with 1 Axes>"
      ]
     },
     "metadata": {
      "needs_background": "light"
     },
     "output_type": "display_data"
    }
   ],
   "source": [
    "corpus['extended_description']['extended_description'].value_counts().sort_values().plot(kind = 'bar')"
   ]
  },
  {
   "cell_type": "markdown",
   "metadata": {},
   "source": [
    "# Exteneded Citation"
   ]
  },
  {
   "cell_type": "code",
   "execution_count": 17,
   "metadata": {},
   "outputs": [
    {
     "data": {
      "text/plain": [
       "<matplotlib.axes._subplots.AxesSubplot at 0x1241b3fd0>"
      ]
     },
     "execution_count": 17,
     "metadata": {},
     "output_type": "execute_result"
    },
    {
     "data": {
      "image/png": "[encoded data removed]",
      "text/plain": [
       "<Figure size 432x288 with 1 Axes>"
      ]
     },
     "metadata": {
      "needs_background": "light"
     },
     "output_type": "display_data"
    }
   ],
   "source": [
    "corpus['extended_citation']['extended_citation'].value_counts().sort_values().plot(kind = 'bar')"
   ]
  }
 ],
 "metadata": {
  "kernelspec": {
   "display_name": "Python 3",
   "language": "python",
   "name": "python3"
  },
  "language_info": {
   "codemirror_mode": {
    "name": "ipython",
    "version": 3
   },
   "file_extension": ".py",
   "mimetype": "text/x-python",
   "name": "python",
   "nbconvert_exporter": "python",
   "pygments_lexer": "ipython3",
   "version": "3.7.4"
  }
 },
 "nbformat": 4,
 "nbformat_minor": 4
}
