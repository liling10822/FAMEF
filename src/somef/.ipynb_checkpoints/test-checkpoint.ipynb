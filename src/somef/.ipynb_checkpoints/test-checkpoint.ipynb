{
 "cells": [
  {
   "cell_type": "code",
   "execution_count": null,
   "metadata": {
    "collapsed": true
   },
   "outputs": [],
   "source": [
    "import pickle\n",
    "from pathlib import Path\n",
    "\n",
    "\n",
    "func_dict = {0: 'Data Analysis', 1:'Data Visualization', 2:'Data Preparation'}\n",
    "excerpts = repo_data['description']\n",
    "input_excerpt= \"This is a visulization library\"\n",
    "\n",
    "default_funcion =  str(path)+\"/models/function.sk\"\n",
    "classifier = pickle.load(open(default_funcion, 'rb'))\n",
    "predict = classifier.([input_excerpt])\n",
    "repo_data['function'] = func_dict[predict[0]]\n",
    "\n",
    "\n"
   ]
  }
 ],
 "metadata": {
  "kernelspec": {
   "display_name": "Python 3",
   "language": "python",
   "name": "python3"
  },
  "language_info": {
   "codemirror_mode": {
    "name": "ipython",
    "version": 3
   },
   "file_extension": ".py",
   "mimetype": "text/x-python",
   "name": "python",
   "nbconvert_exporter": "python",
   "pygments_lexer": "ipython3",
   "version": "3.7.6"
  }
 },
 "nbformat": 4,
 "nbformat_minor": 1
}
