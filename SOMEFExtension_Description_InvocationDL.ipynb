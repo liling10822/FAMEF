{
  "nbformat": 4,
  "nbformat_minor": 0,
  "metadata": {
    "colab": {
      "name": "SOMEFExtension_Description_Invocation.ipynb",
      "provenance": [],
      "collapsed_sections": []
    },
    "kernelspec": {
      "name": "python3",
      "display_name": "Python 3"
    },
    "accelerator": "GPU"
  },
  "cells": [
    {
      "cell_type": "code",
      "metadata": {
        "id": "imT-bpDnwimT",
        "outputId": "8b5f0b23-56d6-4847-f75c-b76081310c95",
        "colab": {
          "base_uri": "https://localhost:8080/"
        }
      },
      "source": [
        "from google.colab import drive\n",
        "drive.mount('/content/drive/')"
      ],
      "execution_count": 3,
      "outputs": [
        {
          "output_type": "stream",
          "text": [
            "Mounted at /content/drive/\n"
          ],
          "name": "stdout"
        }
      ]
    },
    {
      "cell_type": "code",
      "metadata": {
        "id": "_wf-VruYw9XJ"
      },
      "source": [
        "import keras\n",
        "import pandas as pd\n",
        "import numpy as np\n",
        "from keras import models\n",
        "from keras import layers\n",
        "from keras import optimizers\n",
        "import matplotlib.pyplot as plt\n",
        "from sklearn.feature_extraction.text import CountVectorizer\n",
        "from sklearn.model_selection import train_test_split"
      ],
      "execution_count": 37,
      "outputs": []
    },
    {
      "cell_type": "code",
      "metadata": {
        "id": "EVhNWd5_xL1n",
        "outputId": "b595f06b-35e5-4937-9282-f8b6305cccbc",
        "colab": {
          "base_uri": "https://localhost:8080/"
        }
      },
      "source": [
        "!ls \"/content/drive/My Drive/Deep Learning/SOMEF_Extension--main\""
      ],
      "execution_count": 5,
      "outputs": [
        {
          "output_type": "stream",
          "text": [
            "description.csv  invocation.csv  SOMEFExtension_Description_Invocation.ipynb\n"
          ],
          "name": "stdout"
        }
      ]
    },
    {
      "cell_type": "code",
      "metadata": {
        "id": "vSdeohXexVlo"
      },
      "source": [
        "ext_desc=pd.read_csv(\"/content/drive/My Drive/Deep Learning/SOMEF_Extension--main/description.csv\")\n",
        "\n",
        "\n",
        "X_desc, Y_desc = ext_desc.excerpt, ext_desc.extended_description\n",
        "vectorizer = CountVectorizer()\n",
        "X_desc=vectorizer.fit_transform(X_desc).toarray()\n",
        "Y_desc = np.where(Y_desc == True, 1, Y_desc)\n",
        "\n",
        "X_train, X_test, Y_train, Y_test = train_test_split(X_desc, Y_desc)\n",
        "\n",
        "model=models.Sequential()\n",
        "model.add(layers.Dense(16,activation='relu',input_dim=X_desc.shape[1]))\n",
        "model.add(layers.Dense(16,activation='relu'))\n",
        "model.add(layers.Dense(1,activation='sigmoid'))\n",
        "\n",
        "model.compile(optimizer='rmsprop',loss='binary_crossentropy',metrics=['accuracy'])\n",
        "\n",
        "x_val=X_train[:100]\n",
        "partial_x_train=X_train[100:]\n",
        "y_val=Y_train[:100]\n",
        "partial_y_train=Y_train[100:]\n",
        "\n",
        "history=model.fit(partial_x_train,partial_y_train, validation_data=(x_val,y_val),epochs=50,batch_size=512)"
      ],
      "execution_count": null,
      "outputs": []
    },
    {
      "cell_type": "code",
      "metadata": {
        "id": "6VNqyn5u8Qyv",
        "outputId": "e60754fa-735c-48ea-9978-2332c016d810",
        "colab": {
          "base_uri": "https://localhost:8080/",
          "height": 514
        }
      },
      "source": [
        "history_dict=history.history\n",
        "loss_values=history_dict['loss']\n",
        "val_loss_values=history_dict['val_loss']\n",
        "epochs=range(1,len(loss_values)+1)\n",
        "\n",
        "plt.plot(epochs,loss_values,'bo',label='Tr loss')\n",
        "plt.plot(epochs,val_loss_values,'b',label='Val loss')\n",
        "plt.legend()\n",
        "plt.show()\n",
        "\n",
        "acc_values=history_dict['accuracy']\n",
        "val_acc_values=history_dict['val_accuracy']\n",
        "epochs=range(1,len(val_acc_values)+1)\n",
        "\n",
        "plt.plot(epochs,acc_values,'bo',label='Tr acc')\n",
        "plt.plot(epochs,val_acc_values,'b',label='Val acc')\n",
        "plt.legend()\n",
        "plt.show()"
      ],
      "execution_count": 80,
      "outputs": [
        {
          "output_type": "display_data",
          "data": {
            "image/png": "[encoded data removed]",
            "text/plain": [
              "<Figure size 432x288 with 1 Axes>"
            ]
          },
          "metadata": {
            "tags": [],
            "needs_background": "light"
          }
        },
        {
          "output_type": "display_data",
          "data": {
            "image/png": "[encoded data removed]",
            "text/plain": [
              "<Figure size 432x288 with 1 Axes>"
            ]
          },
          "metadata": {
            "tags": [],
            "needs_background": "light"
          }
        }
      ]
    },
    {
      "cell_type": "code",
      "metadata": {
        "id": "DBe-0CtN84Z7",
        "outputId": "261d79d3-d073-40e0-e110-b2ad5f18a1be",
        "colab": {
          "base_uri": "https://localhost:8080/"
        }
      },
      "source": [
        "model=models.Sequential()\n",
        "model.add(layers.Dense(16,activation='relu',input_dim=X_desc.shape[1]))\n",
        "model.add(layers.Dense(16,activation='relu'))\n",
        "model.add(layers.Dense(1,activation='sigmoid'))\n",
        "\n",
        "metric_ = [\n",
        "      \n",
        "      keras.metrics.Precision(name='precision'),\n",
        "      keras.metrics.Recall(name='recall')\n",
        "      ]\n",
        "\n",
        "## we choose 35 epochs because we start getting flat curves for accuracy above beyond 35 epochs\n",
        "model.compile(optimizer='rmsprop',loss='binary_crossentropy',metrics=metric_)\n",
        "history=model.fit(X_train,Y_train,epochs=35,batch_size=512)\n",
        "results=model.evaluate(X_test,Y_test)\n",
        "print(results)"
      ],
      "execution_count": 88,
      "outputs": [
        {
          "output_type": "stream",
          "text": [
            "Epoch 1/35\n",
            "2/2 [==============================] - 0s 7ms/step - loss: 0.7123 - precision: 0.5652 - recall: 0.0831\n",
            "Epoch 2/35\n",
            "2/2 [==============================] - 0s 4ms/step - loss: 0.6809 - precision: 0.8015 - recall: 0.6709\n",
            "Epoch 3/35\n",
            "2/2 [==============================] - 0s 3ms/step - loss: 0.6644 - precision: 0.8309 - recall: 0.9105\n",
            "Epoch 4/35\n",
            "2/2 [==============================] - 0s 3ms/step - loss: 0.6495 - precision: 0.8846 - recall: 0.9553\n",
            "Epoch 5/35\n",
            "2/2 [==============================] - 0s 3ms/step - loss: 0.6322 - precision: 0.8886 - recall: 0.9681\n",
            "Epoch 6/35\n",
            "2/2 [==============================] - 0s 3ms/step - loss: 0.6149 - precision: 0.9035 - recall: 0.9872\n",
            "Epoch 7/35\n",
            "2/2 [==============================] - 0s 5ms/step - loss: 0.5968 - precision: 0.8943 - recall: 1.0000\n",
            "Epoch 8/35\n",
            "2/2 [==============================] - 0s 4ms/step - loss: 0.5807 - precision: 0.9176 - recall: 0.9968\n",
            "Epoch 9/35\n",
            "2/2 [==============================] - 0s 4ms/step - loss: 0.5662 - precision: 0.9233 - recall: 1.0000\n",
            "Epoch 10/35\n",
            "2/2 [==============================] - 0s 4ms/step - loss: 0.5514 - precision: 0.9315 - recall: 1.0000\n",
            "Epoch 11/35\n",
            "2/2 [==============================] - 0s 4ms/step - loss: 0.5364 - precision: 0.9571 - recall: 0.9968\n",
            "Epoch 12/35\n",
            "2/2 [==============================] - 0s 4ms/step - loss: 0.5226 - precision: 0.9658 - recall: 0.9936\n",
            "Epoch 13/35\n",
            "2/2 [==============================] - 0s 5ms/step - loss: 0.5090 - precision: 0.9720 - recall: 1.0000\n",
            "Epoch 14/35\n",
            "2/2 [==============================] - 0s 4ms/step - loss: 0.4953 - precision: 0.9781 - recall: 1.0000\n",
            "Epoch 15/35\n",
            "2/2 [==============================] - 0s 5ms/step - loss: 0.4808 - precision: 0.9779 - recall: 0.9904\n",
            "Epoch 16/35\n",
            "2/2 [==============================] - 0s 3ms/step - loss: 0.4674 - precision: 0.9778 - recall: 0.9840\n",
            "Epoch 17/35\n",
            "2/2 [==============================] - 0s 4ms/step - loss: 0.4543 - precision: 0.9778 - recall: 0.9840\n",
            "Epoch 18/35\n",
            "2/2 [==============================] - 0s 4ms/step - loss: 0.4413 - precision: 0.9778 - recall: 0.9872\n",
            "Epoch 19/35\n",
            "2/2 [==============================] - 0s 4ms/step - loss: 0.4285 - precision: 0.9841 - recall: 0.9904\n",
            "Epoch 20/35\n",
            "2/2 [==============================] - 0s 4ms/step - loss: 0.4160 - precision: 0.9841 - recall: 0.9904\n",
            "Epoch 21/35\n",
            "2/2 [==============================] - 0s 4ms/step - loss: 0.4040 - precision: 0.9872 - recall: 0.9840\n",
            "Epoch 22/35\n",
            "2/2 [==============================] - 0s 4ms/step - loss: 0.3916 - precision: 0.9871 - recall: 0.9808\n",
            "Epoch 23/35\n",
            "2/2 [==============================] - 0s 4ms/step - loss: 0.3803 - precision: 0.9840 - recall: 0.9808\n",
            "Epoch 24/35\n",
            "2/2 [==============================] - 0s 4ms/step - loss: 0.3696 - precision: 0.9904 - recall: 0.9872\n",
            "Epoch 25/35\n",
            "2/2 [==============================] - 0s 4ms/step - loss: 0.3585 - precision: 0.9903 - recall: 0.9808\n",
            "Epoch 26/35\n",
            "2/2 [==============================] - 0s 4ms/step - loss: 0.3482 - precision: 0.9903 - recall: 0.9808\n",
            "Epoch 27/35\n",
            "2/2 [==============================] - 0s 6ms/step - loss: 0.3375 - precision: 0.9935 - recall: 0.9840\n",
            "Epoch 28/35\n",
            "2/2 [==============================] - 0s 4ms/step - loss: 0.3276 - precision: 0.9935 - recall: 0.9840\n",
            "Epoch 29/35\n",
            "2/2 [==============================] - 0s 4ms/step - loss: 0.3174 - precision: 0.9968 - recall: 0.9840\n",
            "Epoch 30/35\n",
            "2/2 [==============================] - 0s 4ms/step - loss: 0.3078 - precision: 0.9968 - recall: 0.9840\n",
            "Epoch 31/35\n",
            "2/2 [==============================] - 0s 4ms/step - loss: 0.2981 - precision: 0.9968 - recall: 0.9840\n",
            "Epoch 32/35\n",
            "2/2 [==============================] - 0s 3ms/step - loss: 0.2885 - precision: 0.9968 - recall: 0.9840\n",
            "Epoch 33/35\n",
            "2/2 [==============================] - 0s 3ms/step - loss: 0.2797 - precision: 0.9968 - recall: 0.9808\n",
            "Epoch 34/35\n",
            "2/2 [==============================] - 0s 4ms/step - loss: 0.2707 - precision: 0.9968 - recall: 0.9808\n",
            "Epoch 35/35\n",
            "2/2 [==============================] - 0s 4ms/step - loss: 0.2619 - precision: 0.9968 - recall: 0.9808\n",
            "6/6 [==============================] - 0s 3ms/step - loss: 0.4578 - precision: 0.8913 - recall: 0.8119\n",
            "[0.4578087329864502, 0.8913043737411499, 0.8118811845779419]\n"
          ],
          "name": "stdout"
        }
      ]
    }
  ]
}