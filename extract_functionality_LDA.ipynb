{
 "cells": [
  {
   "cell_type": "code",
   "execution_count": 75,
   "metadata": {},
   "outputs": [],
   "source": [
    "import os\n",
    "import pandas as pd\n",
    "import re\n",
    "import nltk\n",
    "from string import punctuation"
   ]
  },
  {
   "cell_type": "code",
   "execution_count": 71,
   "metadata": {},
   "outputs": [],
   "source": [
    "import gensim\n",
    "from gensim.utils import simple_preprocess"
   ]
  },
  {
   "cell_type": "code",
   "execution_count": 72,
   "metadata": {},
   "outputs": [],
   "source": [
    "from nltk.stem import WordNetLemmatizer, SnowballStemmer"
   ]
  },
  {
   "cell_type": "code",
   "execution_count": 73,
   "metadata": {},
   "outputs": [],
   "source": [
    "import spacy"
   ]
  },
  {
   "cell_type": "code",
   "execution_count": 5,
   "metadata": {},
   "outputs": [],
   "source": [
    "nlp = spacy.load('en_core_web_md')"
   ]
  },
  {
   "cell_type": "code",
   "execution_count": 6,
   "metadata": {},
   "outputs": [],
   "source": [
    "import markdown\n",
    "from bs4 import BeautifulSoup"
   ]
  },
  {
   "cell_type": "code",
   "execution_count": 8,
   "metadata": {},
   "outputs": [],
   "source": [
    "description_file ='./training_corpus/extended_description.csv'"
   ]
  },
  {
   "cell_type": "code",
   "execution_count": 9,
   "metadata": {},
   "outputs": [],
   "source": [
    "description_df = pd.read_csv(description_file)"
   ]
  },
  {
   "cell_type": "code",
   "execution_count": 13,
   "metadata": {},
   "outputs": [
    {
     "data": {
      "text/plain": [
       "Index(['Unnamed: 0', 'URL', 'contributor', 'excerpt'], dtype='object')"
      ]
     },
     "execution_count": 13,
     "metadata": {},
     "output_type": "execute_result"
    }
   ],
   "source": [
    "description_df.columns"
   ]
  },
  {
   "cell_type": "code",
   "execution_count": 16,
   "metadata": {},
   "outputs": [],
   "source": [
    "description_df.drop(columns='Unnamed: 0',inplace=True,)"
   ]
  },
  {
   "cell_type": "code",
   "execution_count": 17,
   "metadata": {},
   "outputs": [
    {
     "data": {
      "text/html": [
       "<div>\n",
       "<style scoped>\n",
       "    .dataframe tbody tr th:only-of-type {\n",
       "        vertical-align: middle;\n",
       "    }\n",
       "\n",
       "    .dataframe tbody tr th {\n",
       "        vertical-align: top;\n",
       "    }\n",
       "\n",
       "    .dataframe thead th {\n",
       "        text-align: right;\n",
       "    }\n",
       "</style>\n",
       "<table border=\"1\" class=\"dataframe\">\n",
       "  <thead>\n",
       "    <tr style=\"text-align: right;\">\n",
       "      <th></th>\n",
       "      <th>URL</th>\n",
       "      <th>contributor</th>\n",
       "      <th>excerpt</th>\n",
       "    </tr>\n",
       "  </thead>\n",
       "  <tbody>\n",
       "    <tr>\n",
       "      <th>0</th>\n",
       "      <td>https://github.com/GoogleChrome/puppeteer</td>\n",
       "      <td>Allen Mao</td>\n",
       "      <td>Puppeteer is a Node library which provides a h...</td>\n",
       "    </tr>\n",
       "    <tr>\n",
       "      <th>1</th>\n",
       "      <td>https://github.com/JimmySuen/integral-human-pose</td>\n",
       "      <td>Allen Mao</td>\n",
       "      <td>The major contributors of this repository incl...</td>\n",
       "    </tr>\n",
       "    <tr>\n",
       "      <th>2</th>\n",
       "      <td>https://github.com/JimmySuen/integral-human-pose</td>\n",
       "      <td>Allen Mao</td>\n",
       "      <td>Integral Regression is initially described in ...</td>\n",
       "    </tr>\n",
       "    <tr>\n",
       "      <th>3</th>\n",
       "      <td>https://github.com/JimmySuen/integral-human-pose</td>\n",
       "      <td>Allen Mao</td>\n",
       "      <td>We build a 3D pose estimation system based mai...</td>\n",
       "    </tr>\n",
       "    <tr>\n",
       "      <th>4</th>\n",
       "      <td>https://github.com/JimmySuen/integral-human-pose</td>\n",
       "      <td>Allen Mao</td>\n",
       "      <td>The Integral Regression is also known as soft-...</td>\n",
       "    </tr>\n",
       "  </tbody>\n",
       "</table>\n",
       "</div>"
      ],
      "text/plain": [
       "                                                URL contributor  \\\n",
       "0         https://github.com/GoogleChrome/puppeteer   Allen Mao   \n",
       "1  https://github.com/JimmySuen/integral-human-pose   Allen Mao   \n",
       "2  https://github.com/JimmySuen/integral-human-pose   Allen Mao   \n",
       "3  https://github.com/JimmySuen/integral-human-pose   Allen Mao   \n",
       "4  https://github.com/JimmySuen/integral-human-pose   Allen Mao   \n",
       "\n",
       "                                             excerpt  \n",
       "0  Puppeteer is a Node library which provides a h...  \n",
       "1  The major contributors of this repository incl...  \n",
       "2  Integral Regression is initially described in ...  \n",
       "3  We build a 3D pose estimation system based mai...  \n",
       "4  The Integral Regression is also known as soft-...  "
      ]
     },
     "execution_count": 17,
     "metadata": {},
     "output_type": "execute_result"
    }
   ],
   "source": [
    "description_df.head()"
   ]
  },
  {
   "cell_type": "code",
   "execution_count": 34,
   "metadata": {},
   "outputs": [
    {
     "data": {
      "text/html": [
       "<div>\n",
       "<style scoped>\n",
       "    .dataframe tbody tr th:only-of-type {\n",
       "        vertical-align: middle;\n",
       "    }\n",
       "\n",
       "    .dataframe tbody tr th {\n",
       "        vertical-align: top;\n",
       "    }\n",
       "\n",
       "    .dataframe thead th {\n",
       "        text-align: right;\n",
       "    }\n",
       "</style>\n",
       "<table border=\"1\" class=\"dataframe\">\n",
       "  <thead>\n",
       "    <tr style=\"text-align: right;\">\n",
       "      <th></th>\n",
       "      <th>URL</th>\n",
       "      <th>excerpt</th>\n",
       "    </tr>\n",
       "  </thead>\n",
       "  <tbody>\n",
       "    <tr>\n",
       "      <th>0</th>\n",
       "      <td>https://github.com/GoogleChrome/puppeteer</td>\n",
       "      <td>Puppeteer is a Node library which provides a h...</td>\n",
       "    </tr>\n",
       "    <tr>\n",
       "      <th>1</th>\n",
       "      <td>https://github.com/JimmySuen/integral-human-pose</td>\n",
       "      <td>The major contributors of this repository incl...</td>\n",
       "    </tr>\n",
       "    <tr>\n",
       "      <th>2</th>\n",
       "      <td>https://github.com/JimmySuen/integral-human-pose</td>\n",
       "      <td>Integral Regression is initially described in ...</td>\n",
       "    </tr>\n",
       "    <tr>\n",
       "      <th>3</th>\n",
       "      <td>https://github.com/JimmySuen/integral-human-pose</td>\n",
       "      <td>We build a 3D pose estimation system based mai...</td>\n",
       "    </tr>\n",
       "    <tr>\n",
       "      <th>4</th>\n",
       "      <td>https://github.com/JimmySuen/integral-human-pose</td>\n",
       "      <td>The Integral Regression is also known as soft-...</td>\n",
       "    </tr>\n",
       "    <tr>\n",
       "      <th>5</th>\n",
       "      <td>https://github.com/JimmySuen/integral-human-pose</td>\n",
       "      <td>This is an official implementation for Integra...</td>\n",
       "    </tr>\n",
       "    <tr>\n",
       "      <th>6</th>\n",
       "      <td>https://github.com/JimmySuen/integral-human-pose</td>\n",
       "      <td>The original implementation is based on our in...</td>\n",
       "    </tr>\n",
       "    <tr>\n",
       "      <th>7</th>\n",
       "      <td>https://github.com/JuliaGeo/LibGEOS.jl</td>\n",
       "      <td>LibGEOS is a LGPL-licensed package for manipul...</td>\n",
       "    </tr>\n",
       "    <tr>\n",
       "      <th>8</th>\n",
       "      <td>https://github.com/JuliaGeo/LibGEOS.jl</td>\n",
       "      <td>Among other things, it allows you to parse Wel...</td>\n",
       "    </tr>\n",
       "    <tr>\n",
       "      <th>9</th>\n",
       "      <td>https://github.com/LMescheder/GAN_stability</td>\n",
       "      <td>This repository contains the experiments in th...</td>\n",
       "    </tr>\n",
       "    <tr>\n",
       "      <th>10</th>\n",
       "      <td>https://github.com/LMescheder/GAN_stability</td>\n",
       "      <td>For the results presented in the paper, we did...</td>\n",
       "    </tr>\n",
       "    <tr>\n",
       "      <th>11</th>\n",
       "      <td>https://github.com/LMescheder/GAN_stability</td>\n",
       "      <td>Batch normalization is currently not supported...</td>\n",
       "    </tr>\n",
       "    <tr>\n",
       "      <th>12</th>\n",
       "      <td>https://github.com/NSGeophysics/GPRPy</td>\n",
       "      <td>Open-source Ground Penetrating Radar processin...</td>\n",
       "    </tr>\n",
       "    <tr>\n",
       "      <th>13</th>\n",
       "      <td>https://github.com/NVIDIA/vid2vid</td>\n",
       "      <td>Pytorch implementation for high-resolution (e....</td>\n",
       "    </tr>\n",
       "    <tr>\n",
       "      <th>14</th>\n",
       "      <td>https://github.com/OpenGeoVis/PVGeo</td>\n",
       "      <td>The PVGeo Python package contains VTK powered ...</td>\n",
       "    </tr>\n",
       "    <tr>\n",
       "      <th>15</th>\n",
       "      <td>https://github.com/OpenGeoVis/omfvista</td>\n",
       "      <td>A PyVista (and VTK) interface for the Open Min...</td>\n",
       "    </tr>\n",
       "    <tr>\n",
       "      <th>16</th>\n",
       "      <td>https://github.com/OpenGeoscience/geonotebook/</td>\n",
       "      <td>GeoNotebook is an application that provides cl...</td>\n",
       "    </tr>\n",
       "    <tr>\n",
       "      <th>17</th>\n",
       "      <td>https://github.com/Toblerity/Fiona/</td>\n",
       "      <td>Fiona is OGR's neat and nimble API for Python ...</td>\n",
       "    </tr>\n",
       "    <tr>\n",
       "      <th>18</th>\n",
       "      <td>https://github.com/Toblerity/Fiona/</td>\n",
       "      <td>Fiona is designed to be simple and dependable....</td>\n",
       "    </tr>\n",
       "    <tr>\n",
       "      <th>19</th>\n",
       "      <td>https://github.com/Toblerity/Shapely</td>\n",
       "      <td>Shapely is a BSD-licensed Python package for m...</td>\n",
       "    </tr>\n",
       "  </tbody>\n",
       "</table>\n",
       "</div>"
      ],
      "text/plain": [
       "                                                 URL  \\\n",
       "0          https://github.com/GoogleChrome/puppeteer   \n",
       "1   https://github.com/JimmySuen/integral-human-pose   \n",
       "2   https://github.com/JimmySuen/integral-human-pose   \n",
       "3   https://github.com/JimmySuen/integral-human-pose   \n",
       "4   https://github.com/JimmySuen/integral-human-pose   \n",
       "5   https://github.com/JimmySuen/integral-human-pose   \n",
       "6   https://github.com/JimmySuen/integral-human-pose   \n",
       "7             https://github.com/JuliaGeo/LibGEOS.jl   \n",
       "8             https://github.com/JuliaGeo/LibGEOS.jl   \n",
       "9        https://github.com/LMescheder/GAN_stability   \n",
       "10       https://github.com/LMescheder/GAN_stability   \n",
       "11       https://github.com/LMescheder/GAN_stability   \n",
       "12             https://github.com/NSGeophysics/GPRPy   \n",
       "13                 https://github.com/NVIDIA/vid2vid   \n",
       "14               https://github.com/OpenGeoVis/PVGeo   \n",
       "15            https://github.com/OpenGeoVis/omfvista   \n",
       "16    https://github.com/OpenGeoscience/geonotebook/   \n",
       "17               https://github.com/Toblerity/Fiona/   \n",
       "18               https://github.com/Toblerity/Fiona/   \n",
       "19              https://github.com/Toblerity/Shapely   \n",
       "\n",
       "                                              excerpt  \n",
       "0   Puppeteer is a Node library which provides a h...  \n",
       "1   The major contributors of this repository incl...  \n",
       "2   Integral Regression is initially described in ...  \n",
       "3   We build a 3D pose estimation system based mai...  \n",
       "4   The Integral Regression is also known as soft-...  \n",
       "5   This is an official implementation for Integra...  \n",
       "6   The original implementation is based on our in...  \n",
       "7   LibGEOS is a LGPL-licensed package for manipul...  \n",
       "8   Among other things, it allows you to parse Wel...  \n",
       "9   This repository contains the experiments in th...  \n",
       "10  For the results presented in the paper, we did...  \n",
       "11  Batch normalization is currently not supported...  \n",
       "12  Open-source Ground Penetrating Radar processin...  \n",
       "13  Pytorch implementation for high-resolution (e....  \n",
       "14  The PVGeo Python package contains VTK powered ...  \n",
       "15  A PyVista (and VTK) interface for the Open Min...  \n",
       "16  GeoNotebook is an application that provides cl...  \n",
       "17  Fiona is OGR's neat and nimble API for Python ...  \n",
       "18  Fiona is designed to be simple and dependable....  \n",
       "19  Shapely is a BSD-licensed Python package for m...  "
      ]
     },
     "execution_count": 34,
     "metadata": {},
     "output_type": "execute_result"
    }
   ],
   "source": [
    "description_df.head(20)"
   ]
  },
  {
   "cell_type": "code",
   "execution_count": 53,
   "metadata": {},
   "outputs": [],
   "source": [
    "df =description_df.groupby('URL').agg(''.join).reset_index()"
   ]
  },
  {
   "cell_type": "code",
   "execution_count": 151,
   "metadata": {},
   "outputs": [
    {
     "data": {
      "text/html": [
       "<div>\n",
       "<style scoped>\n",
       "    .dataframe tbody tr th:only-of-type {\n",
       "        vertical-align: middle;\n",
       "    }\n",
       "\n",
       "    .dataframe tbody tr th {\n",
       "        vertical-align: top;\n",
       "    }\n",
       "\n",
       "    .dataframe thead th {\n",
       "        text-align: right;\n",
       "    }\n",
       "</style>\n",
       "<table border=\"1\" class=\"dataframe\">\n",
       "  <thead>\n",
       "    <tr style=\"text-align: right;\">\n",
       "      <th></th>\n",
       "      <th>URL</th>\n",
       "      <th>excerpt</th>\n",
       "    </tr>\n",
       "  </thead>\n",
       "  <tbody>\n",
       "    <tr>\n",
       "      <th>0</th>\n",
       "      <td>https://github.com/CMU-Perceptual-Computing-La...</td>\n",
       "      <td>openpose represents the first real-time multi-...</td>\n",
       "    </tr>\n",
       "    <tr>\n",
       "      <th>1</th>\n",
       "      <td>https://github.com/Codecademy/EventHub</td>\n",
       "      <td>eventhub enables companies to do cross device ...</td>\n",
       "    </tr>\n",
       "    <tr>\n",
       "      <th>2</th>\n",
       "      <td>https://github.com/GoogleChrome/puppeteer</td>\n",
       "      <td>puppeteer is a node library which provides a h...</td>\n",
       "    </tr>\n",
       "    <tr>\n",
       "      <th>3</th>\n",
       "      <td>https://github.com/HumbleSoftware/envisionjs</td>\n",
       "      <td>fast interactive html charts</td>\n",
       "    </tr>\n",
       "    <tr>\n",
       "      <th>4</th>\n",
       "      <td>https://github.com/JaidedAI/EasyOCR</td>\n",
       "      <td>ready-to-use ocr with + languages supported in...</td>\n",
       "    </tr>\n",
       "  </tbody>\n",
       "</table>\n",
       "</div>"
      ],
      "text/plain": [
       "                                                 URL  \\\n",
       "0  https://github.com/CMU-Perceptual-Computing-La...   \n",
       "1             https://github.com/Codecademy/EventHub   \n",
       "2          https://github.com/GoogleChrome/puppeteer   \n",
       "3       https://github.com/HumbleSoftware/envisionjs   \n",
       "4                https://github.com/JaidedAI/EasyOCR   \n",
       "\n",
       "                                             excerpt  \n",
       "0  openpose represents the first real-time multi-...  \n",
       "1  eventhub enables companies to do cross device ...  \n",
       "2  puppeteer is a node library which provides a h...  \n",
       "3                       fast interactive html charts  \n",
       "4  ready-to-use ocr with + languages supported in...  "
      ]
     },
     "execution_count": 151,
     "metadata": {},
     "output_type": "execute_result"
    }
   ],
   "source": [
    "df.hea"
   ]
  },
  {
   "cell_type": "markdown",
   "metadata": {},
   "source": [
    "#  preprocessing "
   ]
  },
  {
   "cell_type": "code",
   "execution_count": 150,
   "metadata": {},
   "outputs": [
    {
     "data": {
      "text/plain": [
       "105"
      ]
     },
     "execution_count": 150,
     "metadata": {},
     "output_type": "execute_result"
    }
   ],
   "source": [
    "len(df)"
   ]
  },
  {
   "cell_type": "code",
   "execution_count": 59,
   "metadata": {},
   "outputs": [],
   "source": [
    "df['excerpt'] = df['excerpt'].map(lambda x: re.sub(r'[\\.\\?\\!,=]','',x))\n",
    "# remove digits                                      \n",
    "regex = re.compile(r'\\d*')\n",
    "df['excerpt'] = df['excerpt'].map(lambda x: re.sub(regex,'',x))\n",
    "# convert to lower case\n",
    "df['excerpt'] = df['excerpt'].map(lambda x: x.lower())                                "
   ]
  },
  {
   "cell_type": "code",
   "execution_count": 232,
   "metadata": {},
   "outputs": [
    {
     "data": {
      "text/html": [
       "<div>\n",
       "<style scoped>\n",
       "    .dataframe tbody tr th:only-of-type {\n",
       "        vertical-align: middle;\n",
       "    }\n",
       "\n",
       "    .dataframe tbody tr th {\n",
       "        vertical-align: top;\n",
       "    }\n",
       "\n",
       "    .dataframe thead th {\n",
       "        text-align: right;\n",
       "    }\n",
       "</style>\n",
       "<table border=\"1\" class=\"dataframe\">\n",
       "  <thead>\n",
       "    <tr style=\"text-align: right;\">\n",
       "      <th></th>\n",
       "      <th>URL</th>\n",
       "      <th>excerpt</th>\n",
       "    </tr>\n",
       "  </thead>\n",
       "  <tbody>\n",
       "    <tr>\n",
       "      <th>0</th>\n",
       "      <td>https://github.com/CMU-Perceptual-Computing-La...</td>\n",
       "      <td>openpose represents the first real-time multi-...</td>\n",
       "    </tr>\n",
       "    <tr>\n",
       "      <th>1</th>\n",
       "      <td>https://github.com/Codecademy/EventHub</td>\n",
       "      <td>eventhub enables companies to do cross device ...</td>\n",
       "    </tr>\n",
       "    <tr>\n",
       "      <th>2</th>\n",
       "      <td>https://github.com/GoogleChrome/puppeteer</td>\n",
       "      <td>puppeteer is a node library which provides a h...</td>\n",
       "    </tr>\n",
       "    <tr>\n",
       "      <th>3</th>\n",
       "      <td>https://github.com/HumbleSoftware/envisionjs</td>\n",
       "      <td>fast interactive html charts</td>\n",
       "    </tr>\n",
       "    <tr>\n",
       "      <th>4</th>\n",
       "      <td>https://github.com/JaidedAI/EasyOCR</td>\n",
       "      <td>ready-to-use ocr with + languages supported in...</td>\n",
       "    </tr>\n",
       "  </tbody>\n",
       "</table>\n",
       "</div>"
      ],
      "text/plain": [
       "                                                 URL  \\\n",
       "0  https://github.com/CMU-Perceptual-Computing-La...   \n",
       "1             https://github.com/Codecademy/EventHub   \n",
       "2          https://github.com/GoogleChrome/puppeteer   \n",
       "3       https://github.com/HumbleSoftware/envisionjs   \n",
       "4                https://github.com/JaidedAI/EasyOCR   \n",
       "\n",
       "                                             excerpt  \n",
       "0  openpose represents the first real-time multi-...  \n",
       "1  eventhub enables companies to do cross device ...  \n",
       "2  puppeteer is a node library which provides a h...  \n",
       "3                       fast interactive html charts  \n",
       "4  ready-to-use ocr with + languages supported in...  "
      ]
     },
     "execution_count": 232,
     "metadata": {},
     "output_type": "execute_result"
    }
   ],
   "source": [
    "df.head()"
   ]
  },
  {
   "cell_type": "code",
   "execution_count": 623,
   "metadata": {},
   "outputs": [
    {
     "data": {
      "text/html": [
       "<div>\n",
       "<style scoped>\n",
       "    .dataframe tbody tr th:only-of-type {\n",
       "        vertical-align: middle;\n",
       "    }\n",
       "\n",
       "    .dataframe tbody tr th {\n",
       "        vertical-align: top;\n",
       "    }\n",
       "\n",
       "    .dataframe thead th {\n",
       "        text-align: right;\n",
       "    }\n",
       "</style>\n",
       "<table border=\"1\" class=\"dataframe\">\n",
       "  <thead>\n",
       "    <tr style=\"text-align: right;\">\n",
       "      <th></th>\n",
       "      <th>original word</th>\n",
       "      <th>stemmed</th>\n",
       "    </tr>\n",
       "  </thead>\n",
       "  <tbody>\n",
       "    <tr>\n",
       "      <th>0</th>\n",
       "      <td>caresses</td>\n",
       "      <td>caress</td>\n",
       "    </tr>\n",
       "    <tr>\n",
       "      <th>1</th>\n",
       "      <td>flies</td>\n",
       "      <td>fli</td>\n",
       "    </tr>\n",
       "    <tr>\n",
       "      <th>2</th>\n",
       "      <td>dies</td>\n",
       "      <td>dy</td>\n",
       "    </tr>\n",
       "    <tr>\n",
       "      <th>3</th>\n",
       "      <td>mules</td>\n",
       "      <td>mule</td>\n",
       "    </tr>\n",
       "    <tr>\n",
       "      <th>4</th>\n",
       "      <td>denied</td>\n",
       "      <td>deni</td>\n",
       "    </tr>\n",
       "    <tr>\n",
       "      <th>5</th>\n",
       "      <td>died</td>\n",
       "      <td>die</td>\n",
       "    </tr>\n",
       "    <tr>\n",
       "      <th>6</th>\n",
       "      <td>agreed</td>\n",
       "      <td>agre</td>\n",
       "    </tr>\n",
       "    <tr>\n",
       "      <th>7</th>\n",
       "      <td>owned</td>\n",
       "      <td>own</td>\n",
       "    </tr>\n",
       "    <tr>\n",
       "      <th>8</th>\n",
       "      <td>humbled</td>\n",
       "      <td>humbl</td>\n",
       "    </tr>\n",
       "    <tr>\n",
       "      <th>9</th>\n",
       "      <td>sized</td>\n",
       "      <td>size</td>\n",
       "    </tr>\n",
       "    <tr>\n",
       "      <th>10</th>\n",
       "      <td>meeting</td>\n",
       "      <td>meet</td>\n",
       "    </tr>\n",
       "    <tr>\n",
       "      <th>11</th>\n",
       "      <td>stating</td>\n",
       "      <td>state</td>\n",
       "    </tr>\n",
       "    <tr>\n",
       "      <th>12</th>\n",
       "      <td>siezing</td>\n",
       "      <td>siez</td>\n",
       "    </tr>\n",
       "    <tr>\n",
       "      <th>13</th>\n",
       "      <td>itemization</td>\n",
       "      <td>item</td>\n",
       "    </tr>\n",
       "    <tr>\n",
       "      <th>14</th>\n",
       "      <td>sensational</td>\n",
       "      <td>sensat</td>\n",
       "    </tr>\n",
       "    <tr>\n",
       "      <th>15</th>\n",
       "      <td>traditional</td>\n",
       "      <td>tradit</td>\n",
       "    </tr>\n",
       "    <tr>\n",
       "      <th>16</th>\n",
       "      <td>reference</td>\n",
       "      <td>refer</td>\n",
       "    </tr>\n",
       "    <tr>\n",
       "      <th>17</th>\n",
       "      <td>colonizer</td>\n",
       "      <td>colon</td>\n",
       "    </tr>\n",
       "    <tr>\n",
       "      <th>18</th>\n",
       "      <td>plotted</td>\n",
       "      <td>plot</td>\n",
       "    </tr>\n",
       "  </tbody>\n",
       "</table>\n",
       "</div>"
      ],
      "text/plain": [
       "   original word stemmed\n",
       "0       caresses  caress\n",
       "1          flies     fli\n",
       "2           dies      dy\n",
       "3          mules    mule\n",
       "4         denied    deni\n",
       "5           died     die\n",
       "6         agreed    agre\n",
       "7          owned     own\n",
       "8        humbled   humbl\n",
       "9          sized    size\n",
       "10       meeting    meet\n",
       "11       stating   state\n",
       "12       siezing    siez\n",
       "13   itemization    item\n",
       "14   sensational  sensat\n",
       "15   traditional  tradit\n",
       "16     reference   refer\n",
       "17     colonizer   colon\n",
       "18       plotted    plot"
      ]
     },
     "execution_count": 623,
     "metadata": {},
     "output_type": "execute_result"
    }
   ],
   "source": [
    "stemmer = SnowballStemmer('english')\n",
    "original_words = ['caresses', 'flies', 'dies', 'mules', 'denied','died', 'agreed', 'owned', \n",
    "           'humbled', 'sized','meeting', 'stating', 'siezing', 'itemization','sensational', \n",
    "           'traditional', 'reference', 'colonizer','plotted']\n",
    "singles = [stemmer.stem(WordNetLemmatizer().lemmatize(plural)) for plural in original_words]\n",
    "pd.DataFrame(data = {'original word': original_words, 'stemmed': singles})"
   ]
  },
  {
   "cell_type": "code",
   "execution_count": 67,
   "metadata": {},
   "outputs": [],
   "source": [
    "from nltk.corpus import stopwords\n",
    "stop_words = stopwords.words('english')"
   ]
  },
  {
   "cell_type": "code",
   "execution_count": 198,
   "metadata": {},
   "outputs": [],
   "source": [
    "stop_words_new =['code','file','text','use','http','https','install','using','import','python','instal','example','documentation','rain']"
   ]
  },
  {
   "cell_type": "code",
   "execution_count": 199,
   "metadata": {},
   "outputs": [],
   "source": [
    "stop_words.extend(stop_words_new)"
   ]
  },
  {
   "cell_type": "code",
   "execution_count": 233,
   "metadata": {},
   "outputs": [],
   "source": [
    "# from nltk.stem import WordNetLemmatizer\n",
    "# wordnet_lemmatizer = WordNetLemmatizer()\n",
    "   \n",
    "    \n",
    "def preprocess(text):\n",
    "    result = []\n",
    "    for token in simple_preprocess(text):\n",
    "        if token not in stop_words and len(token) > 3:\n",
    "            \n",
    "            \n",
    "            result.append(token)\n",
    "                \n",
    "    return result\n",
    "            "
   ]
  },
  {
   "cell_type": "code",
   "execution_count": 234,
   "metadata": {},
   "outputs": [],
   "source": [
    "processed_docs =df['excerpt'].map(preprocess)"
   ]
  },
  {
   "cell_type": "code",
   "execution_count": 235,
   "metadata": {},
   "outputs": [
    {
     "data": {
      "text/plain": [
       "0    [openpose, represents, first, real, time, mult...\n",
       "1    [eventhub, enables, companies, cross, device, ...\n",
       "2    [puppeteer, node, library, provides, high, lev...\n",
       "3                    [fast, interactive, html, charts]\n",
       "4    [ready, languages, supported, including, chine...\n",
       "Name: excerpt, dtype: object"
      ]
     },
     "execution_count": 235,
     "metadata": {},
     "output_type": "execute_result"
    }
   ],
   "source": [
    "processed_docs.head()"
   ]
  },
  {
   "cell_type": "code",
   "execution_count": 236,
   "metadata": {},
   "outputs": [],
   "source": [
    "import gensim.corpora as corpora"
   ]
  },
  {
   "cell_type": "code",
   "execution_count": 296,
   "metadata": {},
   "outputs": [],
   "source": [
    " \n",
    "\n",
    "# Create Dictionary\n",
    "dictionary = corpora.Dictionary(processed_docs)\n",
    "#dictionary.filter_extremes(no_below=2, no_above=0.8)\n",
    "\n",
    "# Create Corpus\n",
    "texts = processed_docs\n",
    "\n",
    "# \n",
    "bow_corpus = [dictionary.doc2bow(text) for text in texts]\n",
    "\n"
   ]
  },
  {
   "cell_type": "code",
   "execution_count": 278,
   "metadata": {},
   "outputs": [],
   "source": [
    "from gensim import corpora,models"
   ]
  },
  {
   "cell_type": "code",
   "execution_count": 297,
   "metadata": {},
   "outputs": [],
   "source": [
    "tfidf = models.TfidfModel(bow_corpus)\n",
    "corpus_tfidf = tfidf[bow_corpus]"
   ]
  },
  {
   "cell_type": "code",
   "execution_count": 298,
   "metadata": {},
   "outputs": [
    {
     "data": {
      "text/plain": [
       "105"
      ]
     },
     "execution_count": 298,
     "metadata": {},
     "output_type": "execute_result"
    }
   ],
   "source": [
    "len(corpus_tfidf)"
   ]
  },
  {
   "cell_type": "code",
   "execution_count": 307,
   "metadata": {},
   "outputs": [],
   "source": [
    "lda_model_1 = gensim.models.ldamodel.LdaModel(corpus=bow_corpus,\n",
    "                                           id2word=dictionary,\n",
    "                                           num_topics=5, \n",
    "                                           random_state=100,\n",
    "                                          \n",
    "                                           passes=20,\n",
    "                                           alpha='auto',\n",
    "                                           per_word_topics=True,minimum_probability=0.001)\n"
   ]
  },
  {
   "cell_type": "code",
   "execution_count": 312,
   "metadata": {},
   "outputs": [],
   "source": [
    "lda_model_2 = gensim.models.ldamodel.LdaModel(corpus=corpus_tfidf,\n",
    "                                           id2word=dictionary,\n",
    "                                           num_topics=4, \n",
    "                                           random_state=100,\n",
    "                                          \n",
    "                                           passes=20,\n",
    "                                           alpha='auto',\n",
    "                                           per_word_topics=True,minimum_probability=0.001)\n"
   ]
  },
  {
   "cell_type": "code",
   "execution_count": 308,
   "metadata": {},
   "outputs": [
    {
     "data": {
      "text/plain": [
       "[(0,\n",
       "  '0.014*\"data\" + 0.007*\"model\" + 0.007*\"geological\" + 0.006*\"files\" + 0.005*\"based\" + 0.005*\"support\" + 0.005*\"also\" + 0.004*\"analysis\" + 0.004*\"models\" + 0.004*\"gdal\" + 0.004*\"real\" + 0.004*\"docker\" + 0.004*\"gempy\" + 0.004*\"software\" + 0.004*\"read\" + 0.004*\"allows\" + 0.004*\"image\" + 0.004*\"visualization\" + 0.004*\"surface\" + 0.004*\"results\" + 0.004*\"time\" + 0.003*\"average\" + 0.003*\"running\" + 0.003*\"library\" + 0.003*\"information\" + 0.003*\"binary\" + 0.003*\"used\" + 0.003*\"generate\" + 0.003*\"versions\" + 0.003*\"queries\"'),\n",
       " (1,\n",
       "  '0.017*\"data\" + 0.008*\"network\" + 0.006*\"based\" + 0.006*\"features\" + 0.006*\"spatial\" + 0.006*\"library\" + 0.005*\"also\" + 0.004*\"information\" + 0.004*\"tile\" + 0.004*\"method\" + 0.004*\"segyio\" + 0.004*\"react\" + 0.004*\"state\" + 0.004*\"different\" + 0.004*\"propose\" + 0.004*\"supports\" + 0.003*\"level\" + 0.003*\"make\" + 0.003*\"density\" + 0.003*\"layers\" + 0.003*\"proposed\" + 0.003*\"convolutional\" + 0.003*\"files\" + 0.003*\"deep\" + 0.003*\"well\" + 0.003*\"image\" + 0.003*\"neural\" + 0.003*\"dense\" + 0.003*\"transmission\" + 0.003*\"connected\"'),\n",
       " (2,\n",
       "  '0.007*\"nets\" + 0.007*\"neural\" + 0.006*\"learning\" + 0.006*\"object\" + 0.006*\"software\" + 0.006*\"detection\" + 0.006*\"pytorch\" + 0.005*\"mesh\" + 0.005*\"data\" + 0.005*\"models\" + 0.005*\"module\" + 0.005*\"research\" + 0.004*\"network\" + 0.004*\"also\" + 0.004*\"library\" + 0.004*\"maps\" + 0.004*\"connections\" + 0.004*\"video\" + 0.004*\"hyvr\" + 0.003*\"model\" + 0.003*\"built\" + 0.003*\"provides\" + 0.003*\"used\" + 0.003*\"analysis\" + 0.003*\"features\" + 0.003*\"meshes\" + 0.003*\"flow\" + 0.003*\"simulation\" + 0.003*\"input\" + 0.003*\"training\"'),\n",
       " (3,\n",
       "  '0.014*\"space\" + 0.009*\"frequency\" + 0.006*\"matrix\" + 0.006*\"electric\" + 0.006*\"time\" + 0.006*\"algorithms\" + 0.006*\"human\" + 0.005*\"magnetic\" + 0.005*\"pose\" + 0.004*\"image\" + 0.004*\"scikit\" + 0.004*\"transform\" + 0.004*\"regression\" + 0.004*\"estimation\" + 0.004*\"based\" + 0.004*\"built\" + 0.004*\"pyro\" + 0.004*\"operators\" + 0.004*\"many\" + 0.004*\"linear\" + 0.004*\"filters\" + 0.004*\"integral\" + 0.004*\"easy\" + 0.004*\"resnext\" + 0.004*\"detectron\" + 0.003*\"high\" + 0.003*\"model\" + 0.003*\"also\" + 0.003*\"small\" + 0.003*\"core\"'),\n",
       " (4,\n",
       "  '0.012*\"data\" + 0.008*\"scene\" + 0.007*\"objects\" + 0.006*\"like\" + 0.006*\"graph\" + 0.006*\"resolution\" + 0.005*\"project\" + 0.005*\"visualization\" + 0.004*\"tools\" + 0.004*\"method\" + 0.004*\"images\" + 0.004*\"every\" + 0.004*\"application\" + 0.003*\"model\" + 0.003*\"implementation\" + 0.003*\"paper\" + 0.003*\"network\" + 0.003*\"building\" + 0.003*\"give\" + 0.003*\"right\" + 0.003*\"object\" + 0.003*\"well\" + 0.003*\"open\" + 0.003*\"source\" + 0.003*\"provides\" + 0.003*\"facebook\" + 0.003*\"used\" + 0.003*\"models\" + 0.003*\"training\" + 0.003*\"contains\"')]"
      ]
     },
     "execution_count": 308,
     "metadata": {},
     "output_type": "execute_result"
    }
   ],
   "source": [
    "lda_model_1.print_topics(num_words=30)"
   ]
  },
  {
   "cell_type": "code",
   "execution_count": 302,
   "metadata": {},
   "outputs": [
    {
     "data": {
      "text/plain": [
       "[(0,\n",
       "  '0.002*\"geos\" + 0.002*\"languages\" + 0.002*\"gitbucket\" + 0.001*\"data\" + 0.001*\"gdal\" + 0.001*\"files\" + 0.001*\"segyio\" + 0.001*\"keypoints\" + 0.001*\"manipulation\" + 0.001*\"classical\" + 0.001*\"modern\" + 0.001*\"biomedical\" + 0.001*\"vega\" + 0.001*\"language\" + 0.001*\"root\" + 0.001*\"licensed\" + 0.001*\"engine\" + 0.001*\"postgis\" + 0.001*\"ported\" + 0.001*\"korean\" + 0.001*\"chinese\" + 0.001*\"thai\" + 0.001*\"japanese\" + 0.001*\"branch\" + 0.001*\"accurate\" + 0.001*\"fully\" + 0.001*\"planar\" + 0.001*\"geometric\" + 0.001*\"welcome\" + 0.001*\"practices\"'),\n",
       " (1,\n",
       "  '0.002*\"react\" + 0.002*\"data\" + 0.002*\"tile\" + 0.002*\"spatial\" + 0.001*\"framework\" + 0.001*\"charts\" + 0.001*\"parameter\" + 0.001*\"also\" + 0.001*\"visualization\" + 0.001*\"hyvr\" + 0.001*\"reduxperformant\" + 0.001*\"interactive\" + 0.001*\"ground\" + 0.001*\"user\" + 0.001*\"level\" + 0.001*\"html\" + 0.001*\"designed\" + 0.001*\"geological\" + 0.001*\"fast\" + 0.001*\"easier\" + 0.001*\"hardware\" + 0.001*\"radar\" + 0.001*\"bindings\" + 0.001*\"pressure\" + 0.001*\"human\" + 0.001*\"front\" + 0.001*\"sleek\" + 0.001*\"development\" + 0.001*\"latent\" + 0.001*\"research\"'),\n",
       " (2,\n",
       "  '0.002*\"network\" + 0.002*\"pytorch\" + 0.002*\"neural\" + 0.002*\"jupyter\" + 0.002*\"video\" + 0.002*\"object\" + 0.002*\"detection\" + 0.001*\"mesh\" + 0.001*\"maps\" + 0.001*\"repository\" + 0.001*\"wrapper\" + 0.001*\"tensor\" + 0.001*\"nets\" + 0.001*\"paper\" + 0.001*\"eccv\" + 0.001*\"module\" + 0.001*\"ruby\" + 0.001*\"software\" + 0.001*\"tetgen\" + 0.001*\"numpy\" + 0.001*\"learning\" + 0.001*\"meshes\" + 0.001*\"contains\" + 0.001*\"fiona\" + 0.001*\"wells\" + 0.001*\"lithology\" + 0.001*\"robot\" + 0.001*\"cable\" + 0.001*\"implementation\" + 0.001*\"storage\"'),\n",
       " (3,\n",
       "  '0.002*\"image\" + 0.002*\"scikit\" + 0.002*\"processing\" + 0.002*\"mapnik\" + 0.002*\"matrix\" + 0.001*\"pyro\" + 0.001*\"density\" + 0.001*\"space\" + 0.001*\"frequency\" + 0.001*\"sonnet\" + 0.001*\"blog\" + 0.001*\"help\" + 0.001*\"network\" + 0.001*\"headless\" + 0.001*\"puppeteer\" + 0.001*\"chromium\" + 0.001*\"transmission\" + 0.001*\"built\" + 0.001*\"operators\" + 0.001*\"transformations\" + 0.001*\"mining\" + 0.001*\"useable\" + 0.001*\"chrome\" + 0.001*\"mplleaflet\" + 0.001*\"basemap\" + 0.001*\"need\" + 0.001*\"datasets\" + 0.001*\"node\" + 0.001*\"providing\" + 0.001*\"website\"'),\n",
       " (4,\n",
       "  '0.002*\"resolution\" + 0.001*\"average\" + 0.001*\"scene\" + 0.001*\"objects\" + 0.001*\"visualization\" + 0.001*\"tools\" + 0.001*\"queries\" + 0.001*\"apache\" + 0.001*\"data\" + 0.001*\"implementation\" + 0.001*\"binary\" + 0.001*\"project\" + 0.001*\"super\" + 0.001*\"like\" + 0.001*\"kitware\" + 0.001*\"mapshaper\" + 0.001*\"regression\" + 0.001*\"integral\" + 0.001*\"server\" + 0.001*\"training\" + 0.001*\"environment\" + 0.001*\"products\" + 0.001*\"neoj\" + 0.001*\"tinkerpop\" + 0.001*\"bolt\" + 0.001*\"magenta\" + 0.001*\"object\" + 0.001*\"pytorch\" + 0.001*\"editing\" + 0.001*\"ansys\"')]"
      ]
     },
     "execution_count": 302,
     "metadata": {},
     "output_type": "execute_result"
    }
   ],
   "source": [
    "lda_model_2.print_topics(num_words=30)"
   ]
  },
  {
   "cell_type": "code",
   "execution_count": 303,
   "metadata": {},
   "outputs": [
    {
     "name": "stdout",
     "output_type": "stream",
     "text": [
      "nPerplexity Score:  -7.6637430817938705\n",
      "nCoherence Score:  0.38003359517988994\n"
     ]
    }
   ],
   "source": [
    "print('nPerplexity Score: ', lda_model_1.log_perplexity(bow_corpus))\n",
    "coherence_model_lda = gensim.models.CoherenceModel(model=lda_model_1, texts=processed_docs, dictionary=dictionary, coherence='c_v')\n",
    "coherence_lda = coherence_model_lda.get_coherence()\n",
    "print('nCoherence Score: ', coherence_lda)\n",
    "\n"
   ]
  },
  {
   "cell_type": "code",
   "execution_count": 313,
   "metadata": {},
   "outputs": [
    {
     "name": "stdout",
     "output_type": "stream",
     "text": [
      "nPerplexity Score:  -9.79229996545798\n",
      "nCoherence Score:  0.5674436619043413\n"
     ]
    }
   ],
   "source": [
    "print('nPerplexity Score: ', lda_model_2.log_perplexity(corpus_tfidf))\n",
    "coherence_model_lda = gensim.models.CoherenceModel(model=lda_model_2, texts=processed_docs, dictionary=dictionary, coherence='c_v')\n",
    "coherence_lda = coherence_model_lda.get_coherence()\n",
    "print('nCoherence Score: ', coherence_lda)\n",
    "\n"
   ]
  },
  {
   "cell_type": "code",
   "execution_count": 309,
   "metadata": {},
   "outputs": [
    {
     "data": {
      "text/html": [
       "\n",
       "<link rel=\"stylesheet\" type=\"text/css\" href=\"https://cdn.rawgit.com/bmabey/pyLDAvis/files/ldavis.v1.0.0.css\">\n",
       "\n",
       "\n",
       "<div id=\"ldavis_el161451402075050970404020859734\"></div>\n",
       "<script type=\"text/javascript\">\n",
       "\n",
       "var ldavis_el161451402075050970404020859734_data = {\"mdsDat\": {\"x\": [0.055459515921849424, 0.07724650439037813, -0.004984105659737092, -0.14984470353983154, 0.022122788887341167], \"y\": [-0.09121402137357056, -0.022957208465225216, 0.12414044913396383, -0.04460916139357876, 0.03463994209841061], \"topics\": [1, 2, 3, 4, 5], \"cluster\": [1, 1, 1, 1, 1], \"Freq\": [21.304948806762695, 24.786958694458008, 23.405323028564453, 16.602506637573242, 13.900266647338867]}, \"tinfo\": {\"Term\": [\"space\", \"frequency\", \"data\", \"scene\", \"nets\", \"geological\", \"matrix\", \"electric\", \"spatial\", \"objects\", \"files\", \"algorithms\", \"time\", \"detection\", \"magnetic\", \"resolution\", \"like\", \"graph\", \"human\", \"pose\", \"mesh\", \"tile\", \"segyio\", \"object\", \"scikit\", \"transform\", \"gdal\", \"gempy\", \"pytorch\", \"network\", \"gdal\", \"gempy\", \"geological\", \"average\", \"binary\", \"versions\", \"queries\", \"languages\", \"atlases\", \"theano\", \"biomedical\", \"query\", \"airpal\", \"fiona\", \"classical\", \"sandbox\", \"geophysical\", \"offers\", \"advanced\", \"interpolation\", \"sand\", \"carlo\", \"pymc\", \"monte\", \"sampling\", \"fault\", \"googleearth\", \"geoscientific\", \"docker\", \"read\", \"surface\", \"real\", \"files\", \"data\", \"model\", \"results\", \"allows\", \"support\", \"running\", \"branch\", \"based\", \"analysis\", \"packages\", \"layer\", \"generate\", \"models\", \"also\", \"time\", \"software\", \"visualization\", \"interactive\", \"image\", \"open\", \"used\", \"library\", \"information\", \"tile\", \"segyio\", \"react\", \"spatial\", \"transmission\", \"nextflow\", \"stack\", \"removal\", \"densely\", \"dehazing\", \"streaks\", \"estimated\", \"seismic\", \"clusters\", \"metrics\", \"stages\", \"efficiently\", \"streak\", \"dehazed\", \"remove\", \"necessarily\", \"current\", \"storage\", \"pipelines\", \"workflow\", \"scripting\", \"cloud\", \"workflows\", \"propose\", \"layers\", \"convolutional\", \"local\", \"connected\", \"density\", \"supports\", \"proposed\", \"features\", \"network\", \"data\", \"shapes\", \"state\", \"tiles\", \"since\", \"library\", \"based\", \"different\", \"method\", \"information\", \"also\", \"make\", \"level\", \"files\", \"javascript\", \"dense\", \"well\", \"deep\", \"image\", \"neural\", \"nets\", \"video\", \"hyvr\", \"meshes\", \"stacked\", \"tetgen\", \"order\", \"shortcut\", \"connectivity\", \"plotting\", \"mplleaflet\", \"basemap\", \"meshfix\", \"mesh\", \"translation\", \"gitbucket\", \"naive\", \"pytext\", \"functions\", \"main\", \"wrapper\", \"fgfa\", \"tensors\", \"bedding\", \"projects\", \"connections\", \"detection\", \"simulation\", \"motions\", \"poses\", \"pytorch\", \"jupyter\", \"object\", \"neural\", \"flow\", \"maps\", \"learning\", \"software\", \"tensorflow\", \"outputs\", \"renderer\", \"matplotlib\", \"module\", \"research\", \"models\", \"without\", \"input\", \"training\", \"network\", \"provides\", \"built\", \"library\", \"also\", \"used\", \"data\", \"analysis\", \"features\", \"model\", \"frequency\", \"matrix\", \"electric\", \"magnetic\", \"scikit\", \"transform\", \"space\", \"pyro\", \"operators\", \"integral\", \"resnext\", \"detectron\", \"fourier\", \"sources\", \"densepose\", \"latent\", \"responses\", \"explicit\", \"wavenumber\", \"analytical\", \"transformations\", \"receivers\", \"quadrature\", \"dirichlet\", \"pose\", \"mask\", \"regression\", \"estimation\", \"algorithms\", \"filters\", \"human\", \"time\", \"linear\", \"provide\", \"domain\", \"small\", \"following\", \"many\", \"easy\", \"image\", \"built\", \"high\", \"based\", \"model\", \"also\", \"core\", \"scene\", \"mapshaper\", \"kamb\", \"magenta\", \"help\", \"blog\", \"kitware\", \"masks\", \"structured\", \"scraper\", \"expected\", \"form\", \"follow\", \"vectors\", \"rule\", \"layout\", \"laplacian\", \"simplification\", \"equal\", \"looks\", \"something\", \"think\", \"yeoman\", \"lives\", \"generator\", \"give\", \"right\", \"resolution\", \"website\", \"attribute\", \"objects\", \"graph\", \"like\", \"every\", \"application\", \"editing\", \"super\", \"project\", \"building\", \"tools\", \"data\", \"images\", \"visualization\", \"method\", \"hand\", \"check\", \"facebook\", \"implementation\", \"paper\", \"contains\", \"network\", \"model\", \"object\", \"well\", \"open\", \"source\", \"provides\", \"used\", \"models\", \"training\"], \"Freq\": [15.0, 9.0, 56.0, 6.0, 9.0, 10.0, 6.0, 6.0, 10.0, 9.0, 12.0, 8.0, 12.0, 9.0, 5.0, 7.0, 10.0, 7.0, 9.0, 6.0, 8.0, 6.0, 6.0, 11.0, 4.0, 4.0, 5.0, 5.0, 10.0, 21.0, 5.148015022277832, 5.147373199462891, 8.722013473510742, 3.718723773956299, 3.718350648880005, 3.718065023422241, 3.717982769012451, 3.003267765045166, 3.002723455429077, 3.0025079250335693, 2.2883551120758057, 2.2880547046661377, 2.2878916263580322, 2.287909984588623, 2.2879016399383545, 2.2877073287963867, 2.2877118587493896, 2.287691354751587, 2.2876529693603516, 2.287637948989868, 2.287626266479492, 2.2876205444335938, 2.287602663040161, 2.287602186203003, 2.287588596343994, 2.287588119506836, 2.2875614166259766, 2.287550210952759, 5.147567272186279, 4.4331207275390625, 4.432717323303223, 5.147739887237549, 7.294854164123535, 16.589298248291016, 8.722672462463379, 4.430160045623779, 4.432933807373047, 5.863251209259033, 3.718546152114868, 3.003171920776367, 6.578250408172607, 5.148153781890869, 3.003065824508667, 3.0025784969329834, 3.7180869579315186, 5.148139953613281, 5.8628387451171875, 4.429205894470215, 4.433398723602295, 4.432868957519531, 3.7177176475524902, 4.432911396026611, 3.717818021774292, 3.718167304992676, 3.7184970378875732, 3.718491554260254, 6.109178066253662, 6.107913970947266, 5.363902568817139, 9.087157249450684, 3.873372793197632, 3.8722805976867676, 3.12870192527771, 3.1286394596099854, 3.12855863571167, 3.1284828186035156, 3.128493309020996, 3.128413438796997, 3.128307342529297, 3.1277801990509033, 2.3838751316070557, 2.3836700916290283, 2.3836278915405273, 2.3836312294006348, 2.3835697174072266, 2.3835668563842773, 2.383514642715454, 2.3835034370422363, 2.383512496948242, 2.38303542137146, 2.3830220699310303, 2.3830037117004395, 2.382908821105957, 2.38288950920105, 5.36336088180542, 4.618244171142578, 4.618170738220215, 3.873305082321167, 3.8733184337615967, 4.618310928344727, 5.363045692443848, 4.6182403564453125, 9.088022232055664, 11.322686195373535, 23.62457275390625, 3.1284923553466797, 5.363833427429199, 3.1288247108459473, 3.128424644470215, 9.02474594116211, 9.089336395263672, 5.363681793212891, 6.108617782592773, 6.110584735870361, 7.599725246429443, 4.618978500366211, 4.619638442993164, 4.6181254386901855, 3.707172155380249, 3.8734233379364014, 3.8740761280059814, 3.8751206398010254, 3.8737130165100098, 3.8735127449035645, 8.949548721313477, 5.284238338470459, 5.282992839813232, 4.550052165985107, 3.816359043121338, 3.8162522315979004, 3.8140714168548584, 3.082366466522217, 3.0823042392730713, 3.082157850265503, 3.0818705558776855, 3.081810474395752, 3.0813546180725098, 6.750657558441162, 2.3486552238464355, 2.348653554916382, 2.348507881164551, 2.348437547683716, 2.3483917713165283, 2.348297357559204, 2.348266363143921, 2.3481829166412354, 2.3479018211364746, 2.3478894233703613, 2.344630241394043, 5.2842535972595215, 7.433183193206787, 4.549703121185303, 1.6146368980407715, 1.6146366596221924, 7.412594795227051, 3.082422971725464, 7.748393535614014, 8.853888511657715, 4.549980163574219, 5.284543991088867, 8.261221885681152, 7.4850993156433105, 3.0823895931243896, 3.081922769546509, 3.082127094268799, 3.0819318294525146, 6.089196681976318, 5.973404884338379, 6.6211419105529785, 3.8156776428222656, 4.54937219619751, 4.333789348602295, 5.756977558135986, 4.5513763427734375, 4.551754474639893, 5.284693717956543, 5.285016059875488, 4.550784111022949, 6.622274875640869, 4.550750255584717, 4.5506792068481445, 4.551901817321777, 8.73594856262207, 6.088953018188477, 6.08866548538208, 4.7649617195129395, 4.103359222412109, 4.102993965148926, 13.368509292602539, 3.441650867462158, 3.441592216491699, 3.4410526752471924, 3.439786672592163, 3.4342706203460693, 2.7794086933135986, 2.7793891429901123, 2.7788963317871094, 2.777130603790283, 2.117774724960327, 2.1177399158477783, 2.1177139282226562, 2.1176223754882812, 2.117628574371338, 2.1176095008850098, 2.1175572872161865, 2.1157822608947754, 4.726046085357666, 2.084566116333008, 4.102780818939209, 4.102634906768799, 6.023468494415283, 3.4411325454711914, 5.950039386749268, 6.088471412658691, 3.4413001537323, 2.707911968231201, 2.7794313430786133, 2.779679775238037, 2.7776944637298584, 3.44156551361084, 3.4402174949645996, 4.104913711547852, 3.4416608810424805, 3.1720731258392334, 3.4418365955352783, 2.7802422046661377, 2.7798449993133545, 2.7794322967529297, 6.33115816116333, 1.9861739873886108, 1.9861358404159546, 1.9861040115356445, 1.3656271696090698, 1.3656266927719116, 1.365626573562622, 1.365513563156128, 1.3655046224594116, 1.3654931783676147, 1.3654415607452393, 1.36542546749115, 1.3654248714447021, 1.365395188331604, 1.3653944730758667, 1.3653944730758667, 1.3653851747512817, 1.3653761148452759, 1.365354299545288, 1.3653312921524048, 1.365315318107605, 1.365238070487976, 1.365232229232788, 1.3652132749557495, 1.3652104139328003, 2.6066696643829346, 2.5051772594451904, 4.469173431396484, 1.9863520860671997, 1.986230492591858, 5.710795879364014, 4.469478607177734, 5.089848518371582, 3.227480173110962, 3.2274627685546875, 1.9863965511322021, 1.9859520196914673, 3.8487329483032227, 2.606804847717285, 3.228287696838379, 9.122342109680176, 3.227492570877075, 3.619508981704712, 3.227735996246338, 1.9861100912094116, 1.986162781715393, 1.9864792823791504, 2.6074106693267822, 2.6072065830230713, 1.9863977432250977, 2.606832265853882, 2.6078379154205322, 1.9869111776351929, 1.9868422746658325, 1.9867796897888184, 1.986756682395935, 1.986696720123291, 1.9864583015441895, 1.9864253997802734, 1.986406922340393], \"Total\": [15.0, 9.0, 56.0, 6.0, 9.0, 10.0, 6.0, 6.0, 10.0, 9.0, 12.0, 8.0, 12.0, 9.0, 5.0, 7.0, 10.0, 7.0, 9.0, 6.0, 8.0, 6.0, 6.0, 11.0, 4.0, 4.0, 5.0, 5.0, 10.0, 21.0, 5.70137882232666, 5.701394557952881, 10.010998725891113, 4.271086692810059, 4.2710957527160645, 4.271092414855957, 4.271009922027588, 3.55590558052063, 3.5559027194976807, 3.555893898010254, 2.8407442569732666, 2.8407108783721924, 2.8406901359558105, 2.840733051300049, 2.8407304286956787, 2.840726613998413, 2.8407325744628906, 2.8407273292541504, 2.8407211303710938, 2.8407273292541504, 2.8407320976257324, 2.840726375579834, 2.840719223022461, 2.8407254219055176, 2.840733289718628, 2.8407340049743652, 2.840724468231201, 2.8407280445098877, 6.446254253387451, 5.731104373931885, 6.381753921508789, 7.812061309814453, 12.317228317260742, 56.87139129638672, 21.791873931884766, 7.747410774230957, 7.819564342498779, 12.207830429077148, 6.298381328582764, 4.8383283615112305, 23.051982879638672, 15.030163764953613, 5.034590721130371, 5.045900821685791, 7.951759338378906, 17.053569793701172, 22.89415168762207, 12.298005104064941, 14.312309265136719, 14.672904014587402, 9.226487159729004, 17.480953216552734, 12.711105346679688, 14.01284408569336, 20.945295333862305, 14.378082275390625, 6.655938625335693, 6.655895233154297, 5.91086483001709, 10.256718635559082, 4.420621395111084, 4.4206366539001465, 3.67557430267334, 3.675596237182617, 3.6755568981170654, 3.6755471229553223, 3.6755754947662354, 3.6755425930023193, 3.675555467605591, 3.6755003929138184, 2.9304921627044678, 2.9304957389831543, 2.930471658706665, 2.930494785308838, 2.9304556846618652, 2.9304850101470947, 2.9304676055908203, 2.9304702281951904, 2.930492639541626, 2.9304628372192383, 2.930466890335083, 2.9304652214050293, 2.930467367172241, 2.930450439453125, 6.644618988037109, 5.899543762207031, 5.899534702301025, 5.082906723022461, 5.154426574707031, 6.407247543334961, 7.886092662811279, 6.633540630340576, 15.996583938598633, 21.52443504333496, 56.87139129638672, 4.296209335327148, 9.191225051879883, 4.337320804595947, 4.337340354919434, 20.945295333862305, 23.051982879638672, 10.163490295410156, 13.319629669189453, 14.378082275390625, 22.89415168762207, 8.631006240844727, 9.27409553527832, 12.317228317260742, 6.48134708404541, 10.690082550048828, 11.953798294067383, 12.011876106262207, 17.480953216552734, 15.122262001037598, 9.503154754638672, 5.83326530456543, 5.833269119262695, 5.099242210388184, 4.365252494812012, 4.365264415740967, 4.364984035491943, 3.631239414215088, 3.631239414215088, 3.63120174407959, 3.631197929382324, 3.631206750869751, 3.631174325942993, 8.04602336883545, 2.897249698638916, 2.8972487449645996, 2.8972394466400146, 2.897246837615967, 2.897226572036743, 2.897223472595215, 2.8972184658050537, 2.897216796875, 2.897226333618164, 2.897223711013794, 2.8967959880828857, 6.578116416931152, 9.271517753601074, 5.814233303070068, 2.163231372833252, 2.163231134414673, 10.598166465759277, 4.251899719238281, 11.330031394958496, 15.122262001037598, 6.5892109870910645, 8.008302688598633, 14.337282180786133, 14.312309265136719, 4.251937389373779, 4.251917839050293, 4.292967796325684, 4.346169471740723, 12.273177146911621, 12.184687614440918, 17.053569793701172, 6.600268840789795, 10.43066120147705, 9.906054496765137, 21.52443504333496, 12.00369644165039, 12.00952434539795, 20.945295333862305, 22.89415168762207, 14.01284408569336, 56.87139129638672, 15.030163764953613, 15.996583938598633, 21.791873931884766, 9.300250053405762, 6.652520179748535, 6.65257453918457, 5.328730583190918, 4.666771411895752, 4.666825771331787, 15.38250732421875, 4.004857540130615, 4.004854679107666, 4.004856586456299, 4.005017280578613, 4.005564212799072, 3.3429713249206543, 3.3429720401763916, 3.3430092334747314, 3.3432729244232178, 2.681030750274658, 2.6810214519500732, 2.681037187576294, 2.681044578552246, 2.6810545921325684, 2.6810452938079834, 2.6810526847839355, 2.681285858154297, 6.0667290687561035, 2.684522867202759, 5.41156005859375, 5.411678314208984, 8.138325691223145, 4.738694667816162, 9.595314979553223, 12.298005104064941, 5.494816780090332, 4.799537658691406, 5.318244934082031, 5.42347526550293, 5.42360782623291, 9.777420997619629, 9.788712501525879, 17.480953216552734, 12.00952434539795, 9.663658142089844, 23.051982879638672, 21.791873931884766, 22.89415168762207, 8.453889846801758, 6.903340816497803, 2.5577096939086914, 2.557711362838745, 2.55771803855896, 1.9368658065795898, 1.9368658065795898, 1.936866044998169, 1.9368863105773926, 1.936888337135315, 1.9368891716003418, 1.9368993043899536, 1.9369020462036133, 1.936901569366455, 1.9369078874588013, 1.9369070529937744, 1.93690824508667, 1.9369142055511475, 1.9369157552719116, 1.9369146823883057, 1.9369251728057861, 1.9369280338287354, 1.936924934387207, 1.9369235038757324, 1.9369245767593384, 1.9369287490844727, 3.8403475284576416, 3.9437551498413086, 7.26467752456665, 3.272651195526123, 3.2726800441741943, 9.936445236206055, 7.998660564422607, 10.079611778259277, 5.838161945343018, 6.004303932189941, 3.3025364875793457, 3.302614688873291, 10.806136131286621, 5.992265701293945, 8.784610748291016, 56.87139129638672, 10.320439338684082, 14.672904014587402, 13.319629669189453, 4.596395492553711, 4.732761859893799, 4.739719390869141, 9.534492492675781, 11.157427787780762, 6.8623046875, 21.52443504333496, 21.791873931884766, 11.330031394958496, 11.953798294067383, 12.711105346679688, 11.197616577148438, 12.00369644165039, 14.01284408569336, 17.053569793701172, 9.906054496765137], \"Category\": [\"Default\", \"Default\", \"Default\", \"Default\", \"Default\", \"Default\", \"Default\", \"Default\", \"Default\", \"Default\", \"Default\", \"Default\", \"Default\", \"Default\", \"Default\", \"Default\", \"Default\", \"Default\", \"Default\", \"Default\", \"Default\", \"Default\", \"Default\", \"Default\", \"Default\", \"Default\", \"Default\", \"Default\", \"Default\", \"Default\", \"Topic1\", \"Topic1\", \"Topic1\", \"Topic1\", \"Topic1\", \"Topic1\", \"Topic1\", \"Topic1\", \"Topic1\", \"Topic1\", \"Topic1\", \"Topic1\", \"Topic1\", \"Topic1\", \"Topic1\", \"Topic1\", \"Topic1\", \"Topic1\", \"Topic1\", \"Topic1\", \"Topic1\", \"Topic1\", \"Topic1\", \"Topic1\", \"Topic1\", \"Topic1\", \"Topic1\", \"Topic1\", \"Topic1\", \"Topic1\", \"Topic1\", \"Topic1\", \"Topic1\", \"Topic1\", \"Topic1\", \"Topic1\", \"Topic1\", \"Topic1\", \"Topic1\", \"Topic1\", \"Topic1\", \"Topic1\", \"Topic1\", \"Topic1\", \"Topic1\", \"Topic1\", \"Topic1\", \"Topic1\", \"Topic1\", \"Topic1\", \"Topic1\", \"Topic1\", \"Topic1\", \"Topic1\", \"Topic1\", \"Topic1\", \"Topic2\", \"Topic2\", \"Topic2\", \"Topic2\", \"Topic2\", \"Topic2\", \"Topic2\", \"Topic2\", \"Topic2\", \"Topic2\", \"Topic2\", \"Topic2\", \"Topic2\", \"Topic2\", \"Topic2\", \"Topic2\", \"Topic2\", \"Topic2\", \"Topic2\", \"Topic2\", \"Topic2\", \"Topic2\", \"Topic2\", \"Topic2\", \"Topic2\", \"Topic2\", \"Topic2\", \"Topic2\", \"Topic2\", \"Topic2\", \"Topic2\", \"Topic2\", \"Topic2\", \"Topic2\", \"Topic2\", \"Topic2\", \"Topic2\", \"Topic2\", \"Topic2\", \"Topic2\", \"Topic2\", \"Topic2\", \"Topic2\", \"Topic2\", \"Topic2\", \"Topic2\", \"Topic2\", \"Topic2\", \"Topic2\", \"Topic2\", \"Topic2\", \"Topic2\", \"Topic2\", \"Topic2\", \"Topic2\", \"Topic2\", \"Topic2\", \"Topic2\", \"Topic3\", \"Topic3\", \"Topic3\", \"Topic3\", \"Topic3\", \"Topic3\", \"Topic3\", \"Topic3\", \"Topic3\", \"Topic3\", \"Topic3\", \"Topic3\", \"Topic3\", \"Topic3\", \"Topic3\", \"Topic3\", \"Topic3\", \"Topic3\", \"Topic3\", \"Topic3\", \"Topic3\", \"Topic3\", \"Topic3\", \"Topic3\", \"Topic3\", \"Topic3\", \"Topic3\", \"Topic3\", \"Topic3\", \"Topic3\", \"Topic3\", \"Topic3\", \"Topic3\", \"Topic3\", \"Topic3\", \"Topic3\", \"Topic3\", \"Topic3\", \"Topic3\", \"Topic3\", \"Topic3\", \"Topic3\", \"Topic3\", \"Topic3\", \"Topic3\", \"Topic3\", \"Topic3\", \"Topic3\", \"Topic3\", \"Topic3\", \"Topic3\", \"Topic3\", \"Topic3\", \"Topic3\", \"Topic3\", \"Topic3\", \"Topic3\", \"Topic3\", \"Topic4\", \"Topic4\", \"Topic4\", \"Topic4\", \"Topic4\", \"Topic4\", \"Topic4\", \"Topic4\", \"Topic4\", \"Topic4\", \"Topic4\", \"Topic4\", \"Topic4\", \"Topic4\", \"Topic4\", \"Topic4\", \"Topic4\", \"Topic4\", \"Topic4\", \"Topic4\", \"Topic4\", \"Topic4\", \"Topic4\", \"Topic4\", \"Topic4\", \"Topic4\", \"Topic4\", \"Topic4\", \"Topic4\", \"Topic4\", \"Topic4\", \"Topic4\", \"Topic4\", \"Topic4\", \"Topic4\", \"Topic4\", \"Topic4\", \"Topic4\", \"Topic4\", \"Topic4\", \"Topic4\", \"Topic4\", \"Topic4\", \"Topic4\", \"Topic4\", \"Topic4\", \"Topic5\", \"Topic5\", \"Topic5\", \"Topic5\", \"Topic5\", \"Topic5\", \"Topic5\", \"Topic5\", \"Topic5\", \"Topic5\", \"Topic5\", \"Topic5\", \"Topic5\", \"Topic5\", \"Topic5\", \"Topic5\", \"Topic5\", \"Topic5\", \"Topic5\", \"Topic5\", \"Topic5\", \"Topic5\", \"Topic5\", \"Topic5\", \"Topic5\", \"Topic5\", \"Topic5\", \"Topic5\", \"Topic5\", \"Topic5\", \"Topic5\", \"Topic5\", \"Topic5\", \"Topic5\", \"Topic5\", \"Topic5\", \"Topic5\", \"Topic5\", \"Topic5\", \"Topic5\", \"Topic5\", \"Topic5\", \"Topic5\", \"Topic5\", \"Topic5\", \"Topic5\", \"Topic5\", \"Topic5\", \"Topic5\", \"Topic5\", \"Topic5\", \"Topic5\", \"Topic5\", \"Topic5\", \"Topic5\", \"Topic5\", \"Topic5\", \"Topic5\", \"Topic5\", \"Topic5\"], \"logprob\": [30.0, 29.0, 28.0, 27.0, 26.0, 25.0, 24.0, 23.0, 22.0, 21.0, 20.0, 19.0, 18.0, 17.0, 16.0, 15.0, 14.0, 13.0, 12.0, 11.0, 10.0, 9.0, 8.0, 7.0, 6.0, 5.0, 4.0, 3.0, 2.0, 1.0, -5.456900119781494, -5.456999778747559, -4.929599761962891, -5.782100200653076, -5.782199859619141, -5.782299995422363, -5.782299995422363, -5.995800018310547, -5.995999813079834, -5.995999813079834, -6.267600059509277, -6.2677998542785645, -6.2677998542785645, -6.2677998542785645, -6.2677998542785645, -6.267899990081787, -6.267899990081787, -6.267899990081787, -6.26800012588501, -6.26800012588501, -6.26800012588501, -6.26800012588501, -6.26800012588501, -6.26800012588501, -6.26800012588501, -6.26800012588501, -6.26800012588501, -6.26800012588501, -5.456999778747559, -5.606400012969971, -5.606500148773193, -5.456900119781494, -5.10830020904541, -4.2866997718811035, -4.929599761962891, -5.60699987411499, -5.606400012969971, -5.3267998695373535, -5.782100200653076, -5.995800018310547, -5.211699962615967, -5.4567999839782715, -5.995800018310547, -5.995999813079834, -5.782299995422363, -5.4567999839782715, -5.3267998695373535, -5.6072998046875, -5.606299877166748, -5.606400012969971, -5.782400131225586, -5.606400012969971, -5.782299995422363, -5.782199859619141, -5.782199859619141, -5.782199859619141, -5.437099933624268, -5.437300205230713, -5.567200183868408, -5.039999961853027, -5.8927001953125, -5.89300012588501, -6.106200218200684, -6.106299877166748, -6.106299877166748, -6.106299877166748, -6.106299877166748, -6.106299877166748, -6.106400012969971, -6.106500148773193, -6.3780999183654785, -6.378200054168701, -6.378200054168701, -6.378200054168701, -6.378300189971924, -6.378300189971924, -6.378300189971924, -6.378300189971924, -6.378300189971924, -6.378499984741211, -6.378499984741211, -6.378499984741211, -6.378499984741211, -6.378499984741211, -5.567299842834473, -5.716800212860107, -5.716899871826172, -5.8927001953125, -5.8927001953125, -5.716800212860107, -5.567299842834473, -5.716800212860107, -5.039899826049805, -4.820000171661377, -4.08459997177124, -6.106299877166748, -5.567200183868408, -6.106200218200684, -6.106299877166748, -5.046899795532227, -5.03980016708374, -5.567200183868408, -5.43720006942749, -5.436800003051758, -5.218699932098389, -5.716700077056885, -5.7164998054504395, -5.716899871826172, -5.936600208282471, -5.8927001953125, -5.892499923706055, -5.892300128936768, -5.892600059509277, -5.8927001953125, -4.997900009155273, -5.524799823760986, -5.525000095367432, -5.6743998527526855, -5.850200176239014, -5.850200176239014, -5.850800037384033, -6.063799858093262, -6.063799858093262, -6.063899993896484, -6.064000129699707, -6.064000129699707, -6.0640997886657715, -5.279900074005127, -6.335700035095215, -6.335700035095215, -6.335700035095215, -6.3358001708984375, -6.3358001708984375, -6.3358001708984375, -6.3358001708984375, -6.335899829864502, -6.335999965667725, -6.335999965667725, -6.337399959564209, -5.524799823760986, -5.183499813079834, -5.6743998527526855, -6.710400104522705, -6.710400104522705, -5.186299800872803, -6.063799858093262, -5.142000198364258, -5.008600234985352, -5.6743998527526855, -5.524700164794922, -5.077899932861328, -5.176599979400635, -6.063799858093262, -6.063899993896484, -6.063899993896484, -6.063899993896484, -5.382999897003174, -5.402200222015381, -5.299200057983398, -5.850399971008301, -5.674499988555908, -5.723100185394287, -5.4390997886657715, -5.674099922180176, -5.673999786376953, -5.524700164794922, -5.524600028991699, -5.674200057983398, -5.299099922180176, -5.674200057983398, -5.674200057983398, -5.673999786376953, -4.678599834442139, -5.039599895477295, -5.039700031280518, -5.284800052642822, -5.434299945831299, -5.4344000816345215, -4.253200054168701, -5.610099792480469, -5.610199928283691, -5.610300064086914, -5.6107001304626465, -5.612299919128418, -5.82390022277832, -5.82390022277832, -5.823999881744385, -5.824699878692627, -6.095699787139893, -6.095699787139893, -6.095799922943115, -6.095799922943115, -6.095799922943115, -6.095799922943115, -6.095799922943115, -6.096700191497803, -5.293000221252441, -6.111499786376953, -5.4344000816345215, -5.434500217437744, -5.0503997802734375, -5.610300064086914, -5.062699794769287, -5.039700031280518, -5.610199928283691, -5.849899768829346, -5.823800086975098, -5.823800086975098, -5.82450008392334, -5.610199928283691, -5.610599994659424, -5.433899879455566, -5.610099792480469, -5.691699981689453, -5.610099792480469, -5.823599815368652, -5.823699951171875, -5.823800086975098, -4.822999954223633, -5.9822001457214355, -5.9822998046875, -5.9822998046875, -6.356800079345703, -6.356800079345703, -6.356800079345703, -6.356900215148926, -6.356900215148926, -6.356900215148926, -6.35699987411499, -6.35699987411499, -6.35699987411499, -6.35699987411499, -6.35699987411499, -6.35699987411499, -6.35699987411499, -6.35699987411499, -6.35699987411499, -6.35699987411499, -6.357100009918213, -6.357100009918213, -6.357100009918213, -6.357100009918213, -6.357100009918213, -5.710400104522705, -5.750100135803223, -5.171199798583984, -5.982100009918213, -5.9822001457214355, -4.92609977722168, -5.171199798583984, -5.041200160980225, -5.496699810028076, -5.496799945831299, -5.982100009918213, -5.9822998046875, -5.320700168609619, -5.710299968719482, -5.496500015258789, -4.457699775695801, -5.496699810028076, -5.3821001052856445, -5.496699810028076, -5.9822998046875, -5.9822001457214355, -5.982100009918213, -5.710100173950195, -5.71019983291626, -5.982100009918213, -5.710299968719482, -5.70989990234375, -5.981900215148926, -5.981900215148926, -5.981900215148926, -5.981900215148926, -5.98199987411499, -5.982100009918213, -5.982100009918213, -5.982100009918213], \"loglift\": [30.0, 29.0, 28.0, 27.0, 26.0, 25.0, 24.0, 23.0, 22.0, 21.0, 20.0, 19.0, 18.0, 17.0, 16.0, 15.0, 14.0, 13.0, 12.0, 11.0, 10.0, 9.0, 8.0, 7.0, 6.0, 5.0, 4.0, 3.0, 2.0, 1.0, 1.444100022315979, 1.444000005722046, 1.408400058746338, 1.4076999425888062, 1.4076000452041626, 1.4076000452041626, 1.4076000452041626, 1.3773000240325928, 1.3770999908447266, 1.3770999908447266, 1.3300000429153442, 1.3299000263214111, 1.329800009727478, 1.329800009727478, 1.329800009727478, 1.329699993133545, 1.329699993133545, 1.329699993133545, 1.329699993133545, 1.329699993133545, 1.329699993133545, 1.329699993133545, 1.329699993133545, 1.329699993133545, 1.329699993133545, 1.329699993133545, 1.329699993133545, 1.329699993133545, 1.3213000297546387, 1.2893999814987183, 1.1818000078201294, 1.12909996509552, 1.0224000215530396, 0.3142000138759613, 0.6305999755859375, 0.9872999787330627, 0.9786999821662903, 0.8129000067710876, 1.0192999839782715, 1.0693000555038452, 0.2921999990940094, 0.4747999906539917, 1.0295000076293945, 1.0270999670028687, 0.7860000133514404, 0.34850001335144043, 0.18400000035762787, 0.5249999761581421, 0.3743000030517578, 0.34929999709129333, 0.6373000144958496, 0.17419999837875366, 0.31690001487731934, 0.21950000524520874, -0.18240000307559967, 0.19380000233650208, 1.3091000318527222, 1.308899998664856, 1.2977999448776245, 1.273800015449524, 1.2626999616622925, 1.2624000310897827, 1.2338000535964966, 1.2337000370025635, 1.2337000370025635, 1.2337000370025635, 1.2337000370025635, 1.2337000370025635, 1.2336000204086304, 1.2335000038146973, 1.1884000301361084, 1.1883000135421753, 1.1883000135421753, 1.1883000135421753, 1.1883000135421753, 1.1883000135421753, 1.1883000135421753, 1.1883000135421753, 1.1883000135421753, 1.188099980354309, 1.188099980354309, 1.188099980354309, 1.187999963760376, 1.187999963760376, 1.1806000471115112, 1.149999976158142, 1.149999976158142, 1.1231000423431396, 1.1090999841690063, 1.0674999952316284, 1.0092999935150146, 1.0326999425888062, 0.8294000029563904, 0.7524999976158142, 0.5163000226020813, 1.0777000188827515, 0.8562999963760376, 1.0683000087738037, 1.0680999755859375, 0.5529000163078308, 0.4641999900341034, 0.7556999921798706, 0.6152999997138977, 0.5392000079154968, 0.2921000123023987, 0.7696999907493591, 0.6978999972343445, 0.4138000011444092, 0.8361999988555908, 0.3797000050544739, 0.26809999346733093, 0.26350000500679016, -0.1120000034570694, 0.03280000016093254, 1.392199993133545, 1.3533999919891357, 1.3530999422073364, 1.3382999897003174, 1.3178000450134277, 1.3178000450134277, 1.3172999620437622, 1.2883000373840332, 1.2883000373840332, 1.2883000373840332, 1.2882000207901, 1.2882000207901, 1.2879999876022339, 1.2767000198364258, 1.242300033569336, 1.242300033569336, 1.2422000169754028, 1.2422000169754028, 1.2422000169754028, 1.2421000003814697, 1.2421000003814697, 1.2421000003814697, 1.2419999837875366, 1.2419999837875366, 1.2407000064849854, 1.233199954032898, 1.2311999797821045, 1.2070000171661377, 1.1597000360488892, 1.1597000360488892, 1.0946999788284302, 1.1305999755859375, 1.0721999406814575, 0.9168999791145325, 1.0819000005722046, 1.0364999771118164, 0.9009000062942505, 0.8040000200271606, 1.1304999589920044, 1.1303999423980713, 1.1208000183105469, 1.1085000038146973, 0.7512999773025513, 0.739300012588501, 0.5060999989509583, 0.90420001745224, 0.6223999857902527, 0.6255000233650208, 0.13339999318122864, 0.48240000009536743, 0.4819999933242798, 0.07509999722242355, -0.013799999840557575, 0.32749998569488525, -0.6980999708175659, 0.2574000060558319, 0.19509999454021454, -0.11379999667406082, 1.7330000400543213, 1.7071000337600708, 1.7070000171661377, 1.6837999820709229, 1.6670000553131104, 1.6669000387191772, 1.6553000211715698, 1.6440999507904053, 1.6440000534057617, 1.6439000368118286, 1.6434999704360962, 1.641700029373169, 1.6109999418258667, 1.6109999418258667, 1.61080002784729, 1.6101000308990479, 1.5598000288009644, 1.5598000288009644, 1.5597000122070312, 1.5597000122070312, 1.5597000122070312, 1.5597000122070312, 1.5597000122070312, 1.5586999654769897, 1.5458999872207642, 1.5427000522613525, 1.5187000036239624, 1.5187000036239624, 1.4946999549865723, 1.4757000207901, 1.3177000284194946, 1.0925999879837036, 1.3277000188827515, 1.2232999801635742, 1.1467000246047974, 1.1272000074386597, 1.1265000104904175, 0.7515000104904175, 0.7498999834060669, 0.3467000126838684, 0.5458999872207642, 0.6815999746322632, -0.10610000044107437, -0.26339998841285706, -0.31290000677108765, 0.6832000017166138, 1.8867000341415405, 1.7203999757766724, 1.7202999591827393, 1.7202999591827393, 1.6238000392913818, 1.6238000392913818, 1.6238000392913818, 1.6237000226974487, 1.6237000226974487, 1.6237000226974487, 1.6237000226974487, 1.6236000061035156, 1.6236000061035156, 1.6236000061035156, 1.6236000061035156, 1.6236000061035156, 1.6236000061035156, 1.6236000061035156, 1.6236000061035156, 1.6236000061035156, 1.6234999895095825, 1.6234999895095825, 1.6234999895095825, 1.6234999895095825, 1.6234999895095825, 1.585800051689148, 1.5195000171661377, 1.4874000549316406, 1.4739999771118164, 1.4738999605178833, 1.4193999767303467, 1.3912999629974365, 1.2899999618530273, 1.3804999589920044, 1.3524999618530273, 1.464900016784668, 1.4645999670028687, 0.9409000277519226, 1.1409000158309937, 0.9721999764442444, 0.14319999516010284, 0.8108000159263611, 0.5735999941825867, 0.5558000206947327, 1.1341999769210815, 1.1050000190734863, 1.103600025177002, 0.6766999959945679, 0.5194000005722046, 0.7335000038146973, -0.13779999315738678, -0.14980000257492065, 0.23240000009536743, 0.17880000174045563, 0.11729999631643295, 0.24410000443458557, 0.1745000034570694, 0.019600000232458115, -0.17679999768733978, 0.36640000343322754]}, \"token.table\": {\"Topic\": [1, 1, 2, 3, 4, 1, 2, 3, 5, 1, 2, 3, 4, 5, 1, 2, 3, 4, 5, 4, 1, 2, 5, 1, 1, 5, 1, 1, 2, 3, 4, 3, 3, 1, 1, 5, 1, 4, 5, 2, 4, 5, 2, 3, 4, 5, 1, 1, 2, 5, 1, 2, 2, 2, 3, 2, 3, 3, 1, 2, 3, 4, 5, 2, 3, 1, 2, 3, 4, 2, 1, 2, 3, 4, 5, 2, 3, 4, 5, 2, 2, 2, 3, 4, 5, 2, 4, 2, 5, 3, 5, 4, 1, 2, 3, 5, 4, 1, 2, 3, 4, 5, 1, 2, 3, 4, 5, 2, 5, 2, 4, 5, 2, 2, 4, 1, 4, 5, 5, 4, 1, 3, 5, 1, 1, 2, 3, 5, 3, 1, 2, 3, 4, 1, 2, 3, 5, 1, 2, 4, 5, 5, 4, 4, 3, 1, 1, 1, 2, 3, 5, 1, 3, 1, 1, 3, 4, 5, 1, 2, 3, 5, 1, 4, 5, 5, 1, 2, 3, 4, 5, 1, 2, 3, 4, 3, 1, 2, 3, 4, 5, 1, 2, 3, 4, 5, 2, 3, 4, 5, 1, 2, 3, 4, 5, 1, 3, 4, 5, 4, 1, 2, 3, 5, 1, 2, 3, 5, 3, 5, 5, 5, 1, 5, 4, 1, 2, 2, 3, 5, 2, 3, 4, 5, 1, 2, 3, 4, 5, 1, 2, 3, 4, 5, 1, 2, 3, 5, 2, 4, 5, 2, 4, 5, 5, 4, 3, 1, 2, 3, 4, 5, 1, 2, 3, 4, 5, 1, 2, 3, 5, 4, 5, 1, 3, 4, 2, 3, 3, 3, 1, 2, 3, 4, 5, 2, 1, 2, 3, 4, 5, 1, 2, 3, 4, 5, 1, 2, 3, 4, 1, 3, 3, 3, 2, 3, 2, 3, 4, 5, 2, 3, 4, 5, 2, 2, 3, 4, 5, 1, 2, 3, 5, 1, 1, 2, 3, 4, 5, 4, 3, 3, 5, 1, 2, 3, 1, 2, 3, 4, 5, 2, 3, 3, 4, 3, 1, 3, 4, 5, 3, 2, 3, 2, 3, 1, 3, 4, 1, 2, 3, 4, 5, 1, 4, 3, 3, 4, 5, 4, 1, 1, 2, 1, 2, 1, 2, 5, 4, 2, 4, 2, 2, 3, 4, 1, 2, 3, 5, 4, 2, 3, 5, 4, 1, 2, 3, 4, 5, 2, 5, 5, 1, 2, 4, 5, 1, 1, 1, 5, 4, 5, 2, 2, 2, 2, 5, 3, 5, 1, 3, 2, 4, 1, 2, 4, 5, 1, 2, 3, 5, 5, 1, 2, 3, 4, 5, 4, 1, 3, 4, 2, 5, 2, 3, 2, 1, 2, 4, 5, 2, 2, 2, 5, 2, 5, 1, 2, 3, 5, 2, 3, 5, 1, 3, 4, 3, 5, 3, 3, 1, 5, 2, 2, 4, 1, 3, 4, 5, 1, 2, 3, 4, 5, 1, 2, 3, 5, 4, 4, 3, 2, 1, 2, 3, 4, 5, 5, 1, 3, 1, 2, 3, 5, 4, 1, 5, 1, 2, 3, 4, 5, 2, 3, 2, 2, 3, 5], \"Freq\": [0.7040466070175171, 0.7040542364120483, 0.1228753998875618, 0.1228753998875618, 0.7372523546218872, 0.5115374326705933, 0.12788435816764832, 0.25576871633529663, 0.12788435816764832, 0.26207566261291504, 0.3494342267513275, 0.2183963805437088, 0.13103783130645752, 0.04367927834391594, 0.3326643705368042, 0.19959862530231476, 0.3326643705368042, 0.06653287261724472, 0.06653287261724472, 0.7459778785705566, 0.16654719412326813, 0.33309438824653625, 0.4996415972709656, 0.8436676263809204, 0.3055599629878998, 0.6111199259757996, 0.936529815196991, 0.3036615252494812, 0.39042195677757263, 0.17352086305618286, 0.13014064729213715, 0.8261716365814209, 0.6903160214424133, 0.9365278482437134, 0.7040408253669739, 0.5162980556488037, 0.6200488805770874, 0.206682950258255, 0.206682950258255, 0.33376356959342957, 0.16688178479671478, 0.5006453394889832, 0.24980174005031586, 0.41633620858192444, 0.24980174005031586, 0.08326724171638489, 0.704045295715332, 0.42258623242378235, 0.21129311621189117, 0.42258623242378235, 0.7040442824363708, 0.6824849843978882, 0.8162153959274292, 0.776032030582428, 0.194008007645607, 0.152019202709198, 0.76009601354599, 0.826164186000824, 0.2914472818374634, 0.1457236409187317, 0.2914472818374634, 0.1457236409187317, 0.2914472818374634, 0.8475244641304016, 0.16950489580631256, 0.23657748103141785, 0.11828874051570892, 0.35486623644828796, 0.35486623644828796, 0.6824843287467957, 0.29892006516456604, 0.4220047891139984, 0.12308473140001297, 0.017583534121513367, 0.1582517921924591, 0.3330037593841553, 0.3330037593841553, 0.16650187969207764, 0.08325093984603882, 0.6824877262115479, 0.8162050247192383, 0.37417858839035034, 0.37417858839035034, 0.18708929419517517, 0.09354464709758759, 0.8162028193473816, 0.8973950743675232, 0.7803663015365601, 0.15607325732707977, 0.7550004124641418, 0.10785720497369766, 0.748958170413971, 0.19678279757499695, 0.4919569790363312, 0.19678279757499695, 0.09839139878749847, 0.7459107637405396, 0.7756442427635193, 0.1551288515329361, 0.18803195655345917, 0.5640958547592163, 0.18803195655345917, 0.10215847939252853, 0.306475430727005, 0.20431695878505707, 0.306475430727005, 0.10215847939252853, 0.3027975559234619, 0.6055951118469238, 0.682483971118927, 0.9019064903259277, 0.5162850022315979, 0.8162060379981995, 0.18478555977344513, 0.7391422390937805, 0.17128679156303406, 0.17128679156303406, 0.5138603448867798, 0.5162891149520874, 0.7459843158721924, 0.21098294854164124, 0.42196589708328247, 0.42196589708328247, 0.7040433883666992, 0.06251334398984909, 0.5626201033592224, 0.31256672739982605, 0.06251334398984909, 0.690317690372467, 0.5683096647262573, 0.40593546628952026, 0.2110285758972168, 0.6330857276916504, 0.7040436267852783, 0.30352649092674255, 0.7588161826133728, 0.5162885189056396, 0.18437911570072174, 0.18437911570072174, 0.5531373620033264, 0.18437911570072174, 0.5162883400917053, 0.8974052667617798, 0.9677159190177917, 0.6903153657913208, 0.8769808411598206, 0.8769783973693848, 0.5030333399772644, 0.1257583349943161, 0.3772749900817871, 0.516281247138977, 0.8990111947059631, 0.09989013522863388, 0.7040437459945679, 0.7040448784828186, 0.6903100609779358, 0.2603931128978729, 0.7811793088912964, 0.7040457725524902, 0.2500418722629547, 0.2500418722629547, 0.5000837445259094, 0.2175617814064026, 0.2175617814064026, 0.4351235628128052, 0.5162980556488037, 0.20696096122264862, 0.20696096122264862, 0.20696096122264862, 0.31044143438339233, 0.10348048061132431, 0.104217529296875, 0.104217529296875, 0.20843505859375, 0.62530517578125, 0.8571522831916809, 0.22882047295570374, 0.22882047295570374, 0.1716153621673584, 0.22882047295570374, 0.11441023647785187, 0.19379019737243652, 0.2906852960586548, 0.09689509868621826, 0.09689509868621826, 0.2906852960586548, 0.10488235205411911, 0.31464704871177673, 0.31464704871177673, 0.31464704871177673, 0.27820122241973877, 0.41730183362960815, 0.13910061120986938, 0.06955030560493469, 0.06955030560493469, 0.191742405295372, 0.47935599088668823, 0.095871202647686, 0.191742405295372, 0.7490904927253723, 0.4335344433784485, 0.32515084743499756, 0.10838361084461212, 0.10838361084461212, 0.7040450572967529, 0.6171556711196899, 0.30857783555984497, 0.15428891777992249, 0.705566942691803, 0.23518899083137512, 0.7819490432739258, 0.5162979960441589, 0.8436669707298279, 0.5162851214408875, 0.89732426404953, 0.5945420265197754, 0.3963613510131836, 0.8475231528282166, 0.16950462758541107, 0.5162867307662964, 0.20924468338489532, 0.557985782623291, 0.06974822282791138, 0.06974822282791138, 0.21565444767475128, 0.5391361117362976, 0.10782722383737564, 0.10782722383737564, 0.10782722383737564, 0.1909736692905426, 0.42969077825546265, 0.23871709406375885, 0.0954868346452713, 0.04774341732263565, 0.09921017289161682, 0.19842034578323364, 0.19842034578323364, 0.4960508644580841, 0.36397936940193176, 0.5459690690040588, 0.5162823796272278, 0.7869513034820557, 0.19673782587051392, 0.5162822008132935, 0.7819470167160034, 0.9383097887039185, 0.6903160810470581, 0.11586134880781174, 0.5793067216873169, 0.23172269761562347, 0.11586134880781174, 0.11586134880781174, 0.10227645933628082, 0.20455291867256165, 0.20455291867256165, 0.3068293631076813, 0.10227645933628082, 0.2497408092021942, 0.1248704046010971, 0.6243520379066467, 0.7819495797157288, 0.7450113296508789, 0.5162925720214844, 0.23008766770362854, 0.690263032913208, 0.9019138216972351, 0.12428499758243561, 0.8699949979782104, 0.9805378317832947, 0.826179027557373, 0.15015432238578796, 0.4504629671573639, 0.15015432238578796, 0.07507716119289398, 0.22523148357868195, 0.682479202747345, 0.4129979908466339, 0.1376660019159317, 0.22944332659244537, 0.1376660019159317, 0.1376660019159317, 0.2931937575340271, 0.11727749556303024, 0.41047123074531555, 0.05863874778151512, 0.11727749556303024, 0.16295698285102844, 0.16295698285102844, 0.4888709783554077, 0.08147849142551422, 0.7040455341339111, 0.9245427846908569, 0.8261736631393433, 0.6903122663497925, 0.6824849247932434, 0.9470539093017578, 0.5110470652580261, 0.2787529528141022, 0.09291765093803406, 0.1393764764070511, 0.2645106911659241, 0.595149040222168, 0.06612767279148102, 0.06612767279148102, 0.9048470258712769, 0.08826100826263428, 0.7060880661010742, 0.08826100826263428, 0.17652201652526855, 0.20127922296524048, 0.20127922296524048, 0.10063961148262024, 0.6038376688957214, 0.7040450572967529, 0.3146854639053345, 0.23601409792900085, 0.23601409792900085, 0.07867136597633362, 0.15734273195266724, 0.749090850353241, 0.9163836240768433, 0.7055639624595642, 0.23518799245357513, 0.5958776473999023, 0.19862587749958038, 0.19862587749958038, 0.17925278842449188, 0.17925278842449188, 0.2688791751861572, 0.08962639421224594, 0.2688791751861572, 0.6824860572814941, 0.8261727690696716, 0.16483347117900848, 0.8241673707962036, 0.9245429039001465, 0.2776200473308563, 0.18508003652095795, 0.09254001826047897, 0.3701600730419159, 0.6904179453849792, 0.7524886131286621, 0.15049771964550018, 0.7537453174591064, 0.3014981150627136, 0.20835340023040771, 0.20835340023040771, 0.6250602006912231, 0.1666153371334076, 0.1666153371334076, 0.4165383577346802, 0.0833076685667038, 0.1666153371334076, 0.7040470242500305, 0.749090313911438, 0.690310537815094, 0.6604915857315063, 0.09435594081878662, 0.09435594081878662, 0.7459756135940552, 0.9365466237068176, 0.7040491104125977, 0.8458998799324036, 0.697945773601532, 0.174486443400383, 0.6400359272956848, 0.2560143768787384, 0.1280071884393692, 0.7459776997566223, 0.18478959798812866, 0.7391583919525146, 0.8161941170692444, 0.6824808716773987, 0.698817253112793, 0.23293909430503845, 0.16414044797420502, 0.16414044797420502, 0.49242132902145386, 0.08207022398710251, 0.7490604519844055, 0.2753047049045563, 0.13765235245227814, 0.5506094098091125, 0.745981752872467, 0.5163015127182007, 0.12907537817955017, 0.12907537817955017, 0.12907537817955017, 0.12907537817955017, 0.2535654306411743, 0.760696291923523, 0.5162870287895203, 0.635083794593811, 0.15877094864845276, 0.15877094864845276, 0.15877094864845276, 0.7040435671806335, 0.7040438652038574, 0.7040452361106873, 0.8691443800926208, 0.857123613357544, 0.5162917971611023, 0.6824855208396912, 0.9014564752578735, 0.8162031769752502, 0.6982899904251099, 0.23276333510875702, 0.826164186000824, 0.516284704208374, 0.1719917207956314, 0.8599585890769958, 0.6916680932044983, 0.23055604100227356, 0.18438361585140228, 0.18438361585140228, 0.5531508326530457, 0.18438361585140228, 0.2794797122478485, 0.06986992806196213, 0.4890894889831543, 0.06986992806196213, 0.5162814259529114, 0.1786094307899475, 0.1786094307899475, 0.26791414618492126, 0.08930471539497375, 0.1786094307899475, 0.8974050283432007, 0.06500890851020813, 0.06500890851020813, 0.8451157808303833, 0.8774735927581787, 0.09749706834554672, 0.816199004650116, 0.9163272976875305, 0.6824783682823181, 0.10879942774772644, 0.5439971089363098, 0.10879942774772644, 0.10879942774772644, 0.6824790835380554, 0.6824786067008972, 0.8161987066268921, 0.5162920355796814, 0.30279040336608887, 0.6055808067321777, 0.4914878308773041, 0.1638292670249939, 0.24574391543865204, 0.08191463351249695, 0.6340275406837463, 0.12680551409721375, 0.12680551409721375, 0.6267869472503662, 0.15669673681259155, 0.15669673681259155, 0.7055607438087463, 0.23518690466880798, 0.6903154253959656, 0.91632479429245, 0.8436697125434875, 0.5162822604179382, 0.9014506340026855, 0.6916712522506714, 0.23055706918239594, 0.32525599002838135, 0.08131399750709534, 0.4878840148448944, 0.08131399750709534, 0.11383543908596039, 0.11383543908596039, 0.22767087817192078, 0.11383543908596039, 0.34150630235671997, 0.10094836354255676, 0.20189672708511353, 0.40379345417022705, 0.20189672708511353, 0.8571136593818665, 0.745975136756897, 0.6903098225593567, 0.90485018491745, 0.28545239567756653, 0.14272619783878326, 0.35681551694869995, 0.14272619783878326, 0.14272619783878326, 0.5162867903709412, 0.9365285634994507, 0.8571528792381287, 0.2726113498210907, 0.20445850491523743, 0.20445850491523743, 0.2726113498210907, 0.7459799647331238, 0.3055626451969147, 0.6111252903938293, 0.16731083393096924, 0.3346216678619385, 0.16731083393096924, 0.08365541696548462, 0.16731083393096924, 0.3030179738998413, 0.6060359477996826, 0.6824851036071777, 0.6824889183044434, 0.6903172731399536, 0.5162826776504517], \"Term\": [\"advanced\", \"airpal\", \"algorithms\", \"algorithms\", \"algorithms\", \"allows\", \"allows\", \"allows\", \"allows\", \"also\", \"also\", \"also\", \"also\", \"also\", \"analysis\", \"analysis\", \"analysis\", \"analysis\", \"analysis\", \"analytical\", \"application\", \"application\", \"application\", \"atlases\", \"attribute\", \"attribute\", \"average\", \"based\", \"based\", \"based\", \"based\", \"basemap\", \"bedding\", \"binary\", \"biomedical\", \"blog\", \"branch\", \"branch\", \"branch\", \"building\", \"building\", \"building\", \"built\", \"built\", \"built\", \"built\", \"carlo\", \"check\", \"check\", \"check\", \"classical\", \"cloud\", \"clusters\", \"connected\", \"connected\", \"connections\", \"connections\", \"connectivity\", \"contains\", \"contains\", \"contains\", \"contains\", \"contains\", \"convolutional\", \"convolutional\", \"core\", \"core\", \"core\", \"core\", \"current\", \"data\", \"data\", \"data\", \"data\", \"data\", \"deep\", \"deep\", \"deep\", \"deep\", \"dehazed\", \"dehazing\", \"dense\", \"dense\", \"dense\", \"dense\", \"densely\", \"densepose\", \"density\", \"density\", \"detection\", \"detection\", \"detectron\", \"different\", \"different\", \"different\", \"different\", \"dirichlet\", \"docker\", \"docker\", \"domain\", \"domain\", \"domain\", \"easy\", \"easy\", \"easy\", \"easy\", \"easy\", \"editing\", \"editing\", \"efficiently\", \"electric\", \"equal\", \"estimated\", \"estimation\", \"estimation\", \"every\", \"every\", \"every\", \"expected\", \"explicit\", \"facebook\", \"facebook\", \"facebook\", \"fault\", \"features\", \"features\", \"features\", \"features\", \"fgfa\", \"files\", \"files\", \"filters\", \"filters\", \"fiona\", \"flow\", \"flow\", \"follow\", \"following\", \"following\", \"following\", \"following\", \"form\", \"fourier\", \"frequency\", \"functions\", \"gdal\", \"gempy\", \"generate\", \"generate\", \"generate\", \"generator\", \"geological\", \"geological\", \"geophysical\", \"geoscientific\", \"gitbucket\", \"give\", \"give\", \"googleearth\", \"graph\", \"graph\", \"graph\", \"hand\", \"hand\", \"hand\", \"help\", \"high\", \"high\", \"high\", \"high\", \"high\", \"human\", \"human\", \"human\", \"human\", \"hyvr\", \"image\", \"image\", \"image\", \"image\", \"image\", \"images\", \"images\", \"images\", \"images\", \"images\", \"implementation\", \"implementation\", \"implementation\", \"implementation\", \"information\", \"information\", \"information\", \"information\", \"information\", \"input\", \"input\", \"input\", \"input\", \"integral\", \"interactive\", \"interactive\", \"interactive\", \"interactive\", \"interpolation\", \"javascript\", \"javascript\", \"javascript\", \"jupyter\", \"jupyter\", \"kamb\", \"kitware\", \"languages\", \"laplacian\", \"latent\", \"layer\", \"layer\", \"layers\", \"layers\", \"layout\", \"learning\", \"learning\", \"learning\", \"learning\", \"level\", \"level\", \"level\", \"level\", \"level\", \"library\", \"library\", \"library\", \"library\", \"library\", \"like\", \"like\", \"like\", \"like\", \"linear\", \"linear\", \"lives\", \"local\", \"local\", \"looks\", \"magenta\", \"magnetic\", \"main\", \"make\", \"make\", \"make\", \"make\", \"make\", \"many\", \"many\", \"many\", \"many\", \"many\", \"maps\", \"maps\", \"maps\", \"mapshaper\", \"mask\", \"masks\", \"matplotlib\", \"matplotlib\", \"matrix\", \"mesh\", \"mesh\", \"meshes\", \"meshfix\", \"method\", \"method\", \"method\", \"method\", \"method\", \"metrics\", \"model\", \"model\", \"model\", \"model\", \"model\", \"models\", \"models\", \"models\", \"models\", \"models\", \"module\", \"module\", \"module\", \"module\", \"monte\", \"motions\", \"mplleaflet\", \"naive\", \"necessarily\", \"nets\", \"network\", \"network\", \"network\", \"network\", \"neural\", \"neural\", \"neural\", \"neural\", \"nextflow\", \"object\", \"object\", \"object\", \"object\", \"objects\", \"objects\", \"objects\", \"objects\", \"offers\", \"open\", \"open\", \"open\", \"open\", \"open\", \"operators\", \"order\", \"outputs\", \"outputs\", \"packages\", \"packages\", \"packages\", \"paper\", \"paper\", \"paper\", \"paper\", \"paper\", \"pipelines\", \"plotting\", \"pose\", \"pose\", \"poses\", \"project\", \"project\", \"project\", \"project\", \"projects\", \"propose\", \"propose\", \"proposed\", \"proposed\", \"provide\", \"provide\", \"provide\", \"provides\", \"provides\", \"provides\", \"provides\", \"provides\", \"pymc\", \"pyro\", \"pytext\", \"pytorch\", \"pytorch\", \"pytorch\", \"quadrature\", \"queries\", \"query\", \"react\", \"read\", \"read\", \"real\", \"real\", \"real\", \"receivers\", \"regression\", \"regression\", \"removal\", \"remove\", \"renderer\", \"renderer\", \"research\", \"research\", \"research\", \"research\", \"resnext\", \"resolution\", \"resolution\", \"resolution\", \"responses\", \"results\", \"results\", \"results\", \"results\", \"results\", \"right\", \"right\", \"rule\", \"running\", \"running\", \"running\", \"running\", \"sampling\", \"sand\", \"sandbox\", \"scene\", \"scikit\", \"scraper\", \"scripting\", \"segyio\", \"seismic\", \"shapes\", \"shapes\", \"shortcut\", \"simplification\", \"simulation\", \"simulation\", \"since\", \"since\", \"small\", \"small\", \"small\", \"small\", \"software\", \"software\", \"software\", \"software\", \"something\", \"source\", \"source\", \"source\", \"source\", \"source\", \"sources\", \"space\", \"space\", \"space\", \"spatial\", \"spatial\", \"stack\", \"stacked\", \"stages\", \"state\", \"state\", \"state\", \"state\", \"storage\", \"streak\", \"streaks\", \"structured\", \"super\", \"super\", \"support\", \"support\", \"support\", \"support\", \"supports\", \"supports\", \"supports\", \"surface\", \"surface\", \"surface\", \"tensorflow\", \"tensorflow\", \"tensors\", \"tetgen\", \"theano\", \"think\", \"tile\", \"tiles\", \"tiles\", \"time\", \"time\", \"time\", \"time\", \"tools\", \"tools\", \"tools\", \"tools\", \"tools\", \"training\", \"training\", \"training\", \"training\", \"transform\", \"transformations\", \"translation\", \"transmission\", \"used\", \"used\", \"used\", \"used\", \"used\", \"vectors\", \"versions\", \"video\", \"visualization\", \"visualization\", \"visualization\", \"visualization\", \"wavenumber\", \"website\", \"website\", \"well\", \"well\", \"well\", \"well\", \"well\", \"without\", \"without\", \"workflow\", \"workflows\", \"wrapper\", \"yeoman\"]}, \"R\": 30, \"lambda.step\": 0.01, \"plot.opts\": {\"xlab\": \"PC1\", \"ylab\": \"PC2\"}, \"topic.order\": [1, 2, 3, 4, 5]};\n",
       "\n",
       "function LDAvis_load_lib(url, callback){\n",
       "  var s = document.createElement('script');\n",
       "  s.src = url;\n",
       "  s.async = true;\n",
       "  s.onreadystatechange = s.onload = callback;\n",
       "  s.onerror = function(){console.warn(\"failed to load library \" + url);};\n",
       "  document.getElementsByTagName(\"head\")[0].appendChild(s);\n",
       "}\n",
       "\n",
       "if(typeof(LDAvis) !== \"undefined\"){\n",
       "   // already loaded: just create the visualization\n",
       "   !function(LDAvis){\n",
       "       new LDAvis(\"#\" + \"ldavis_el161451402075050970404020859734\", ldavis_el161451402075050970404020859734_data);\n",
       "   }(LDAvis);\n",
       "}else if(typeof define === \"function\" && define.amd){\n",
       "   // require.js is available: use it to load d3/LDAvis\n",
       "   require.config({paths: {d3: \"https://cdnjs.cloudflare.com/ajax/libs/d3/3.5.5/d3.min\"}});\n",
       "   require([\"d3\"], function(d3){\n",
       "      window.d3 = d3;\n",
       "      LDAvis_load_lib(\"https://cdn.rawgit.com/bmabey/pyLDAvis/files/ldavis.v1.0.0.js\", function(){\n",
       "        new LDAvis(\"#\" + \"ldavis_el161451402075050970404020859734\", ldavis_el161451402075050970404020859734_data);\n",
       "      });\n",
       "    });\n",
       "}else{\n",
       "    // require.js not available: dynamically load d3 & LDAvis\n",
       "    LDAvis_load_lib(\"https://cdnjs.cloudflare.com/ajax/libs/d3/3.5.5/d3.min.js\", function(){\n",
       "         LDAvis_load_lib(\"https://cdn.rawgit.com/bmabey/pyLDAvis/files/ldavis.v1.0.0.js\", function(){\n",
       "                 new LDAvis(\"#\" + \"ldavis_el161451402075050970404020859734\", ldavis_el161451402075050970404020859734_data);\n",
       "            })\n",
       "         });\n",
       "}\n",
       "</script>"
      ],
      "text/plain": [
       "PreparedData(topic_coordinates=              x         y  topics  cluster       Freq\n",
       "topic                                                \n",
       "0      0.055460 -0.091214       1        1  21.304949\n",
       "1      0.077247 -0.022957       2        1  24.786959\n",
       "2     -0.004984  0.124140       3        1  23.405323\n",
       "3     -0.149845 -0.044609       4        1  16.602507\n",
       "4      0.022123  0.034640       5        1  13.900267, topic_info=           Term       Freq      Total Category  logprob  loglift\n",
       "233       space  15.000000  15.000000  Default  30.0000  30.0000\n",
       "1041  frequency   9.000000   9.000000  Default  29.0000  29.0000\n",
       "310        data  56.000000  56.000000  Default  28.0000  28.0000\n",
       "1484      scene   6.000000   6.000000  Default  27.0000  27.0000\n",
       "1372       nets   9.000000   9.000000  Default  26.0000  26.0000\n",
       "...         ...        ...        ...      ...      ...      ...\n",
       "216      source   1.986757  11.197617   Topic5  -5.9819   0.2441\n",
       "60     provides   1.986697  12.003696   Topic5  -5.9820   0.1745\n",
       "239        used   1.986458  14.012844   Topic5  -5.9821   0.0196\n",
       "179      models   1.986425  17.053570   Topic5  -5.9821  -0.1768\n",
       "192    training   1.986407   9.906054   Topic5  -5.9821   0.3664\n",
       "\n",
       "[308 rows x 6 columns], token_table=      Topic      Freq        Term\n",
       "term                             \n",
       "652       1  0.704047    advanced\n",
       "520       1  0.704054      airpal\n",
       "197       2  0.122875  algorithms\n",
       "197       3  0.122875  algorithms\n",
       "197       4  0.737252  algorithms\n",
       "...     ...       ...         ...\n",
       "1242      3  0.606036     without\n",
       "1940      2  0.682485    workflow\n",
       "1941      2  0.682489   workflows\n",
       "1442      3  0.690317     wrapper\n",
       "2013      5  0.516283      yeoman\n",
       "\n",
       "[508 rows x 3 columns], R=30, lambda_step=0.01, plot_opts={'xlab': 'PC1', 'ylab': 'PC2'}, topic_order=[1, 2, 3, 4, 5])"
      ]
     },
     "execution_count": 309,
     "metadata": {},
     "output_type": "execute_result"
    }
   ],
   "source": [
    "import pyLDAvis.gensim\n",
    "import pickle \n",
    "import pyLDAvis\n",
    "\n",
    "# Visualize the topics\n",
    "pyLDAvis.enable_notebook()\n",
    "\n",
    "LDAvis_prepared = pyLDAvis.gensim.prepare(lda_model_1, bow_corpus, dictionary,sort_topics=False)\n",
    "LDAvis_prepared"
   ]
  },
  {
   "cell_type": "code",
   "execution_count": 314,
   "metadata": {},
   "outputs": [
    {
     "data": {
      "text/html": [
       "\n",
       "<link rel=\"stylesheet\" type=\"text/css\" href=\"https://cdn.rawgit.com/bmabey/pyLDAvis/files/ldavis.v1.0.0.css\">\n",
       "\n",
       "\n",
       "<div id=\"ldavis_el161451402076208199208857700680\"></div>\n",
       "<script type=\"text/javascript\">\n",
       "\n",
       "var ldavis_el161451402076208199208857700680_data = {\"mdsDat\": {\"x\": [-9.85497933069154e-05, 0.01107005199765225, -0.013238291702333864, 0.002266789497988527], \"y\": [-0.007733648121654077, 0.009090603254763498, 0.006341125675442322, -0.007698080808551736], \"topics\": [1, 2, 3, 4], \"cluster\": [1, 1, 1, 1], \"Freq\": [20.141881942749023, 26.8011417388916, 29.584115982055664, 23.47286033630371]}, \"tinfo\": {\"Term\": [\"pytorch\", \"gdal\", \"binary\", \"average\", \"tile\", \"scikit\", \"queries\", \"matrix\", \"cvpr\", \"resolution\", \"format\", \"pyro\", \"processing\", \"parameter\", \"spatial\", \"video\", \"files\", \"pressure\", \"biomedical\", \"network\", \"atlases\", \"help\", \"blog\", \"tools\", \"mapnik\", \"versions\", \"languages\", \"website\", \"visualization\", \"geological\", \"gdal\", \"binary\", \"average\", \"queries\", \"cvpr\", \"pressure\", \"biomedical\", \"atlases\", \"help\", \"blog\", \"parameter\", \"korean\", \"chinese\", \"thai\", \"japanese\", \"geological\", \"ansys\", \"welcome\", \"practices\", \"fastaifastai\", \"versions\", \"website\", \"kamb\", \"query\", \"airpal\", \"accurate\", \"parse\", \"stanford\", \"clinical\", \"growing\", \"method\", \"languages\", \"well\", \"files\", \"geos\", \"data\", \"branch\", \"supported\", \"paper\", \"support\", \"package\", \"tile\", \"format\", \"resolution\", \"hyvr\", \"apache\", \"reduxperformant\", \"canvas\", \"segyio\", \"bindings\", \"keypoints\", \"geojson\", \"density\", \"hardware\", \"vega\", \"several\", \"mapshaper\", \"latent\", \"bolt\", \"neoj\", \"tinkerpop\", \"tensorwatch\", \"debugging\", \"microsoft\", \"visualization\", \"super\", \"commands\", \"transformations\", \"blocking\", \"useable\", \"mining\", \"radar\", \"processing\", \"data\", \"official\", \"interface\", \"runs\", \"learning\", \"images\", \"penetrating\", \"datasets\", \"library\", \"project\", \"network\", \"react\", \"interactive\", \"pytorch\", \"spatial\", \"video\", \"gitbucket\", \"wrapper\", \"tensor\", \"jupyter\", \"ruby\", \"tetgen\", \"meshes\", \"wells\", \"lithology\", \"robot\", \"cable\", \"easier\", \"storage\", \"numpy\", \"translation\", \"plotting\", \"sonnet\", \"front\", \"sleek\", \"root\", \"connections\", \"mesh\", \"scene\", \"residual\", \"network\", \"leaflet\", \"charts\", \"neural\", \"maps\", \"features\", \"built\", \"nets\", \"tensorflow\", \"interactive\", \"training\", \"html\", \"analysis\", \"implementation\", \"framework\", \"react\", \"fast\", \"learning\", \"data\", \"matrix\", \"pyro\", \"fiona\", \"chrome\", \"classical\", \"densepose\", \"kitware\", \"frequency\", \"integral\", \"detectron\", \"puppeteer\", \"headless\", \"chromium\", \"tools\", \"grids\", \"transmission\", \"operators\", \"estimation\", \"magenta\", \"scikit\", \"regression\", \"application\", \"implements\", \"conversion\", \"eventhub\", \"mapnik\", \"environment\", \"dehazing\", \"searching\", \"copernicus\", \"space\", \"image\", \"human\", \"pose\", \"processing\", \"currently\", \"object\", \"open\", \"data\"], \"Freq\": [0.0, 0.0, 0.0, 0.0, 0.0, 0.0, 0.0, 0.0, 0.0, 0.0, 0.0, 0.0, 0.0, 0.0, 0.0, 0.0, 0.0, 0.0, 0.0, 0.0, 0.0, 0.0, 0.0, 0.0, 0.0, 0.0, 0.0, 0.0, 0.0, 0.0, 0.17151977121829987, 0.16020503640174866, 0.14322833716869354, 0.13009995222091675, 0.13324357569217682, 0.11434131115674973, 0.11418041586875916, 0.11284171789884567, 0.11243080347776413, 0.11243049800395966, 0.12523429095745087, 0.10663127154111862, 0.10663127154111862, 0.10663090646266937, 0.10663089901208878, 0.11147873103618622, 0.10208135098218918, 0.09930774569511414, 0.09930772334337234, 0.09930770099163055, 0.11393359303474426, 0.11422848701477051, 0.09496235102415085, 0.0939352810382843, 0.09393516182899475, 0.10420335829257965, 0.09139326214790344, 0.0893494114279747, 0.08934922516345978, 0.08856356143951416, 0.13886353373527527, 0.10979805886745453, 0.13355214893817902, 0.12988880276679993, 0.11173787713050842, 0.14230014383792877, 0.10501137375831604, 0.10312947630882263, 0.10493656992912292, 0.10228173434734344, 0.10318074375391006, 0.21836447715759277, 0.20213884115219116, 0.2310413271188736, 0.16500262916088104, 0.16200688481330872, 0.1609482765197754, 0.1608012467622757, 0.158603698015213, 0.1559828668832779, 0.15538686513900757, 0.15477848052978516, 0.16518868505954742, 0.1470685750246048, 0.14417427778244019, 0.15786056220531464, 0.14292986690998077, 0.13978151977062225, 0.13217908143997192, 0.13217908143997192, 0.1321786344051361, 0.1319030523300171, 0.1319030523300171, 0.1319030374288559, 0.26917627453804016, 0.14628741145133972, 0.135141059756279, 0.13058297336101532, 0.13047611713409424, 0.12825725972652435, 0.12825681269168854, 0.14648611843585968, 0.18887928128242493, 0.24697557091712952, 0.15714363753795624, 0.14695964753627777, 0.13914337754249573, 0.16433307528495789, 0.1476016342639923, 0.13868992030620575, 0.14033925533294678, 0.15147191286087036, 0.14432819187641144, 0.15452417731285095, 0.14444132149219513, 0.1421860158443451, 0.3613344728946686, 0.23014019429683685, 0.2295990288257599, 0.20094171166419983, 0.19019965827465057, 0.1837064027786255, 0.23188669979572296, 0.174375519156456, 0.17230649292469025, 0.16370774805545807, 0.162252277135849, 0.162252277135849, 0.16143417358398438, 0.1614341139793396, 0.16021142899990082, 0.15920041501522064, 0.17156527936458588, 0.15842333436012268, 0.1559404730796814, 0.15416422486305237, 0.1541573852300644, 0.1541573703289032, 0.1520276516675949, 0.15020272135734558, 0.21005001664161682, 0.19141875207424164, 0.17016839981079102, 0.3265196979045868, 0.1698843389749527, 0.1905389428138733, 0.25221866369247437, 0.19546231627464294, 0.19647955894470215, 0.2036549299955368, 0.18076851963996887, 0.1793067753314972, 0.20802663266658783, 0.18998590111732483, 0.18085119128227234, 0.19069254398345947, 0.18642544746398926, 0.1776503473520279, 0.179850772023201, 0.17345738410949707, 0.17742305994033813, 0.18159420788288116, 0.16431081295013428, 0.15685118734836578, 0.13492339849472046, 0.13211297988891602, 0.1311715990304947, 0.1302204132080078, 0.1290566623210907, 0.12843984365463257, 0.1263599693775177, 0.12537932395935059, 0.12418169528245926, 0.12418169528245926, 0.12418141216039658, 0.17232787609100342, 0.12201432138681412, 0.12021206319332123, 0.11832471936941147, 0.1300421804189682, 0.11770014464855194, 0.18672409653663635, 0.12808683514595032, 0.1485009342432022, 0.11575140804052353, 0.11230265349149704, 0.11230259388685226, 0.1649656742811203, 0.1204577386379242, 0.10518095642328262, 0.10489518195390701, 0.10489512979984283, 0.13062353432178497, 0.20297686755657196, 0.15753233432769775, 0.1414584219455719, 0.1493963599205017, 0.12089069187641144, 0.1242617592215538, 0.12386275827884674, 0.12245596945285797], \"Total\": [0.0, 0.0, 0.0, 0.0, 0.0, 0.0, 0.0, 0.0, 0.0, 0.0, 0.0, 0.0, 0.0, 0.0, 0.0, 0.0, 0.0, 0.0, 0.0, 0.0, 0.0, 0.0, 0.0, 0.0, 0.0, 0.0, 0.0, 0.0, 0.0, 0.0, 0.32102325558662415, 0.3097192943096161, 0.2927311062812805, 0.279602587223053, 0.3015040159225464, 0.2638445794582367, 0.2636829912662506, 0.2623637914657593, 0.26193341612815857, 0.26193350553512573, 0.29753363132476807, 0.2561342716217041, 0.2561343014240265, 0.2561343312263489, 0.25613436102867126, 0.2734840214252472, 0.25159209966659546, 0.24881060421466827, 0.24881061911582947, 0.24881063401699066, 0.2862858474254608, 0.28732216358184814, 0.24447017908096313, 0.24343767762184143, 0.24343767762184143, 0.2707609236240387, 0.24089765548706055, 0.23885175585746765, 0.23885178565979004, 0.23806607723236084, 0.3931707739830017, 0.30312490463256836, 0.3821956217288971, 0.40572547912597656, 0.3510136902332306, 0.6933258771896362, 0.33011460304260254, 0.31437477469444275, 0.39604127407073975, 0.34891125559806824, 0.3960723280906677, 0.3574119508266449, 0.34526246786117554, 0.42128103971481323, 0.3040567636489868, 0.3010576665401459, 0.2999960482120514, 0.299851655960083, 0.29765060544013977, 0.2950308918952942, 0.29443415999412537, 0.2938256561756134, 0.3182838559150696, 0.28611597418785095, 0.283221572637558, 0.3102761507034302, 0.2819769084453583, 0.27882859110832214, 0.27122634649276733, 0.2712263762950897, 0.27122631669044495, 0.2709503769874573, 0.2709503769874573, 0.2709503769874573, 0.5535473227500916, 0.30156266689300537, 0.2789490222930908, 0.26962989568710327, 0.2695232331752777, 0.2673044800758362, 0.2673044204711914, 0.31642603874206543, 0.44861486554145813, 0.6933258771896362, 0.3687879741191864, 0.3335280120372772, 0.3083779811859131, 0.48499178886413574, 0.3796423077583313, 0.3204929530620575, 0.34006524085998535, 0.46449095010757446, 0.4050785005092621, 0.6267012357711792, 0.4090992510318756, 0.47402384877204895, 0.5292807221412659, 0.3651193082332611, 0.3645775020122528, 0.3359207212924957, 0.32517877221107483, 0.31868600845336914, 0.4090299904346466, 0.3093545734882355, 0.3072848320007324, 0.2986861765384674, 0.29723116755485535, 0.29723116755485535, 0.2964128851890564, 0.2964128255844116, 0.2951901853084564, 0.29417869448661804, 0.3177076578140259, 0.2934015393257141, 0.29091858863830566, 0.28914251923561096, 0.2891363203525543, 0.28913629055023193, 0.2870066165924072, 0.2851810157299042, 0.3998417556285858, 0.3658728003501892, 0.3255937993526459, 0.6267012357711792, 0.32624462246894836, 0.367525190114975, 0.5145778656005859, 0.3927099406719208, 0.3994015157222748, 0.42097654938697815, 0.3664572834968567, 0.362084299325943, 0.47402384877204895, 0.423605740070343, 0.38281649351119995, 0.4300536513328552, 0.429960697889328, 0.39126911759376526, 0.4090992510318756, 0.40977439284324646, 0.48499178886413574, 0.6933258771896362, 0.3084430694580078, 0.3009796738624573, 0.27905189990997314, 0.2762443423271179, 0.27530014514923096, 0.2743489146232605, 0.27318522334098816, 0.27256810665130615, 0.27050071954727173, 0.26950764656066895, 0.26831039786338806, 0.26831039786338806, 0.26831039786338806, 0.3736085295677185, 0.2661430239677429, 0.26434028148651123, 0.26245296001434326, 0.2891981899738312, 0.2618284225463867, 0.4163050949573517, 0.28558388352394104, 0.33321458101272583, 0.2598799467086792, 0.2564310133457184, 0.2564310133457184, 0.38059744238853455, 0.2791505753993988, 0.2493092119693756, 0.24902361631393433, 0.2490236461162567, 0.3191754221916199, 0.5311126708984375, 0.3983510732650757, 0.36529597640037537, 0.44861486554145813, 0.3006311058998108, 0.4060499370098114, 0.45261430740356445, 0.6933258771896362], \"Category\": [\"Default\", \"Default\", \"Default\", \"Default\", \"Default\", \"Default\", \"Default\", \"Default\", \"Default\", \"Default\", \"Default\", \"Default\", \"Default\", \"Default\", \"Default\", \"Default\", \"Default\", \"Default\", \"Default\", \"Default\", \"Default\", \"Default\", \"Default\", \"Default\", \"Default\", \"Default\", \"Default\", \"Default\", \"Default\", \"Default\", \"Topic1\", \"Topic1\", \"Topic1\", \"Topic1\", \"Topic1\", \"Topic1\", \"Topic1\", \"Topic1\", \"Topic1\", \"Topic1\", \"Topic1\", \"Topic1\", \"Topic1\", \"Topic1\", \"Topic1\", \"Topic1\", \"Topic1\", \"Topic1\", \"Topic1\", \"Topic1\", \"Topic1\", \"Topic1\", \"Topic1\", \"Topic1\", \"Topic1\", \"Topic1\", \"Topic1\", \"Topic1\", \"Topic1\", \"Topic1\", \"Topic1\", \"Topic1\", \"Topic1\", \"Topic1\", \"Topic1\", \"Topic1\", \"Topic1\", \"Topic1\", \"Topic1\", \"Topic1\", \"Topic1\", \"Topic2\", \"Topic2\", \"Topic2\", \"Topic2\", \"Topic2\", \"Topic2\", \"Topic2\", \"Topic2\", \"Topic2\", \"Topic2\", \"Topic2\", \"Topic2\", \"Topic2\", \"Topic2\", \"Topic2\", \"Topic2\", \"Topic2\", \"Topic2\", \"Topic2\", \"Topic2\", \"Topic2\", \"Topic2\", \"Topic2\", \"Topic2\", \"Topic2\", \"Topic2\", \"Topic2\", \"Topic2\", \"Topic2\", \"Topic2\", \"Topic2\", \"Topic2\", \"Topic2\", \"Topic2\", \"Topic2\", \"Topic2\", \"Topic2\", \"Topic2\", \"Topic2\", \"Topic2\", \"Topic2\", \"Topic2\", \"Topic2\", \"Topic2\", \"Topic2\", \"Topic3\", \"Topic3\", \"Topic3\", \"Topic3\", \"Topic3\", \"Topic3\", \"Topic3\", \"Topic3\", \"Topic3\", \"Topic3\", \"Topic3\", \"Topic3\", \"Topic3\", \"Topic3\", \"Topic3\", \"Topic3\", \"Topic3\", \"Topic3\", \"Topic3\", \"Topic3\", \"Topic3\", \"Topic3\", \"Topic3\", \"Topic3\", \"Topic3\", \"Topic3\", \"Topic3\", \"Topic3\", \"Topic3\", \"Topic3\", \"Topic3\", \"Topic3\", \"Topic3\", \"Topic3\", \"Topic3\", \"Topic3\", \"Topic3\", \"Topic3\", \"Topic3\", \"Topic3\", \"Topic3\", \"Topic3\", \"Topic3\", \"Topic3\", \"Topic3\", \"Topic3\", \"Topic4\", \"Topic4\", \"Topic4\", \"Topic4\", \"Topic4\", \"Topic4\", \"Topic4\", \"Topic4\", \"Topic4\", \"Topic4\", \"Topic4\", \"Topic4\", \"Topic4\", \"Topic4\", \"Topic4\", \"Topic4\", \"Topic4\", \"Topic4\", \"Topic4\", \"Topic4\", \"Topic4\", \"Topic4\", \"Topic4\", \"Topic4\", \"Topic4\", \"Topic4\", \"Topic4\", \"Topic4\", \"Topic4\", \"Topic4\", \"Topic4\", \"Topic4\", \"Topic4\", \"Topic4\", \"Topic4\", \"Topic4\", \"Topic4\", \"Topic4\", \"Topic4\"], \"logprob\": [30.0, 29.0, 28.0, 27.0, 26.0, 25.0, 24.0, 23.0, 22.0, 21.0, 20.0, 19.0, 18.0, 17.0, 16.0, 15.0, 14.0, 13.0, 12.0, 11.0, 10.0, 9.0, 8.0, 7.0, 6.0, 5.0, 4.0, 3.0, 2.0, 1.0, -6.49370002746582, -6.5619001388549805, -6.673999786376953, -6.770100116729736, -6.746200084686279, -6.899199962615967, -6.900599956512451, -6.912399768829346, -6.916100025177002, -6.916100025177002, -6.808199882507324, -6.968999862670898, -6.968999862670898, -6.968999862670898, -6.968999862670898, -6.924600124359131, -7.012599945068359, -7.040200233459473, -7.040200233459473, -7.040200233459473, -6.9028000831604, -6.900199890136719, -7.08489990234375, -7.095799922943115, -7.095799922943115, -6.992000102996826, -7.123199939727783, -7.1458001136779785, -7.1458001136779785, -7.154699802398682, -6.704899787902832, -6.939799785614014, -6.743899822235107, -6.771699905395508, -6.9222002029418945, -6.680500030517578, -6.984300136566162, -7.002399921417236, -6.985000133514404, -7.010700225830078, -7.0019001960754395, -6.537899971008301, -6.615099906921387, -6.481400012969971, -6.8180999755859375, -6.836400032043457, -6.8429999351501465, -6.843900203704834, -6.857600212097168, -6.874300003051758, -6.8780999183654785, -6.881999969482422, -6.81689977645874, -6.93310022354126, -6.953000068664551, -6.862299919128418, -6.961699962615967, -6.984000205993652, -7.039899826049805, -7.039899826049805, -7.039899826049805, -7.041999816894531, -7.041999816894531, -7.041999816894531, -6.328700065612793, -6.938499927520752, -7.0177001953125, -7.052000045776367, -7.052800178527832, -7.070000171661377, -7.070000171661377, -6.937099933624268, -6.6828999519348145, -6.414700031280518, -6.8668999671936035, -6.933899879455566, -6.988500118255615, -6.8221001625061035, -6.929500102996826, -6.991799831390381, -6.980000019073486, -6.903600215911865, -6.951900005340576, -6.883699893951416, -6.951200008392334, -6.966899871826172, -6.132999897003174, -6.584099769592285, -6.58650016784668, -6.719799995422363, -6.774799823760986, -6.809500217437744, -6.576600074768066, -6.861599922180176, -6.873600006103516, -6.924699783325195, -6.933700084686279, -6.933700084686279, -6.938700199127197, -6.938700199127197, -6.946300029754639, -6.952700138092041, -6.877900123596191, -6.957600116729736, -6.973400115966797, -6.984799861907959, -6.984899997711182, -6.984899997711182, -6.998799800872803, -7.010799884796143, -6.67549991607666, -6.768400192260742, -6.886000156402588, -6.234300136566162, -6.887700080871582, -6.7729997634887695, -6.492499828338623, -6.747499942779541, -6.742300033569336, -6.706399917602539, -6.8256001472473145, -6.833700180053711, -6.685200214385986, -6.775899887084961, -6.825200080871582, -6.772200107574463, -6.7947998046875, -6.8429999351501465, -6.830699920654297, -6.8668999671936035, -6.844299793243408, -6.821100234985352, -6.689700126647949, -6.736100196838379, -6.88670015335083, -6.907800197601318, -6.914899826049805, -6.9222002029418945, -6.93120002746582, -6.935999870300293, -6.952300071716309, -6.960100173950195, -6.969699859619141, -6.969699859619141, -6.969699859619141, -6.642000198364258, -6.987299919128418, -7.002200126647949, -7.01800012588501, -6.923600196838379, -7.0233001708984375, -6.561800003051758, -6.938700199127197, -6.790800094604492, -7.039999961853027, -7.070199966430664, -7.070199966430664, -6.685699939727783, -7.000100135803223, -7.135799884796143, -7.138500213623047, -7.138500213623047, -6.919099807739258, -6.478300094604492, -6.731800079345703, -6.839399814605713, -6.784800052642822, -6.996600151062012, -6.968999862670898, -6.972300052642822, -6.983699798583984], \"loglift\": [30.0, 29.0, 28.0, 27.0, 26.0, 25.0, 24.0, 23.0, 22.0, 21.0, 20.0, 19.0, 18.0, 17.0, 16.0, 15.0, 14.0, 13.0, 12.0, 11.0, 10.0, 9.0, 8.0, 7.0, 6.0, 5.0, 4.0, 3.0, 2.0, 1.0, 0.975600004196167, 0.9431999921798706, 0.8876000046730042, 0.8373000025749207, 0.7857999801635742, 0.7662000060081482, 0.7653999924659729, 0.7585999965667725, 0.756600022315979, 0.756600022315979, 0.7369999885559082, 0.7260000109672546, 0.7260000109672546, 0.7260000109672546, 0.7260000109672546, 0.7049999833106995, 0.7002999782562256, 0.683899998664856, 0.683899998664856, 0.683899998664856, 0.6809999942779541, 0.6800000071525574, 0.6567999720573425, 0.6500999927520752, 0.6500999927520752, 0.6474999785423279, 0.6331999897956848, 0.6190999746322632, 0.6190999746322632, 0.6134999990463257, 0.5616000294685364, 0.586899995803833, 0.5508999824523926, 0.4634000062942505, 0.4577000141143799, 0.018799999728798866, 0.4569999873638153, 0.4878000020980835, 0.2741999924182892, 0.37529999017715454, 0.2572999894618988, 0.8240000009536743, 0.7814000248908997, 0.7160000205039978, 0.7055000066757202, 0.6970999836921692, 0.6940000057220459, 0.6935999989509583, 0.6872000098228455, 0.6794000267982483, 0.6776000261306763, 0.6757000088691711, 0.6608999967575073, 0.651199996471405, 0.6414999961853027, 0.640999972820282, 0.6373000144958496, 0.6262000203132629, 0.5978999733924866, 0.5978999733924866, 0.5978999733924866, 0.5968999862670898, 0.5968999862670898, 0.5968999862670898, 0.5957000255584717, 0.5932999849319458, 0.5920000076293945, 0.59170001745224, 0.5913000106811523, 0.5824000239372253, 0.5824000239372253, 0.5465999841690063, 0.45170000195503235, 0.28450000286102295, 0.46369999647140503, 0.49720001220703125, 0.5209000110626221, 0.2345000058412552, 0.3720000088214874, 0.47909998893737793, 0.4316999912261963, 0.19619999825954437, 0.2847000062465668, -0.08340000361204147, 0.27559998631477356, 0.11259999871253967, 0.8361999988555908, 0.7563999891281128, 0.7555000185966492, 0.7041000127792358, 0.6815999746322632, 0.6671000123023987, 0.6503999829292297, 0.6446999907493591, 0.6394000053405762, 0.616599977016449, 0.6126000285148621, 0.6126000285148621, 0.6103000044822693, 0.6103000044822693, 0.6068000197410583, 0.6039000153541565, 0.6018000245094299, 0.6017000079154968, 0.5943999886512756, 0.5889999866485596, 0.5889999866485596, 0.5889999866485596, 0.5824999809265137, 0.5767999887466431, 0.5741999745368958, 0.5701000094413757, 0.569100022315979, 0.5659999847412109, 0.5654000043869019, 0.5609999895095825, 0.5048999786376953, 0.5202000141143799, 0.5084999799728394, 0.4918000102043152, 0.5113000273704529, 0.5152000188827515, 0.39430001378059387, 0.41609999537467957, 0.46810001134872437, 0.40470001101493835, 0.3822999894618988, 0.4284000098705292, 0.3961000144481659, 0.35830000042915344, 0.21230000257492065, -0.121799997985363, 0.8195000290870667, 0.7975999712944031, 0.722599983215332, 0.7117000222206116, 0.7080000042915344, 0.704200029373169, 0.699400007724762, 0.6969000101089478, 0.6881999969482422, 0.6840999722480774, 0.6789000034332275, 0.6789000034332275, 0.6789000034332275, 0.6754999756813049, 0.6693999767303467, 0.661300003528595, 0.6527000069618225, 0.6500999927520752, 0.6498000025749207, 0.6474999785423279, 0.6474999785423279, 0.6410999894142151, 0.6406000256538391, 0.6237000226974487, 0.6237000226974487, 0.6133000254631042, 0.6089000105857849, 0.5863000154495239, 0.5846999883651733, 0.5846999883651733, 0.555899977684021, 0.48739999532699585, 0.5216000080108643, 0.5005999803543091, 0.3497999906539917, 0.5382999777793884, 0.2651999890804291, 0.1535000056028366, -0.28439998626708984]}, \"token.table\": {\"Topic\": [], \"Freq\": [], \"Term\": []}, \"R\": 30, \"lambda.step\": 0.01, \"plot.opts\": {\"xlab\": \"PC1\", \"ylab\": \"PC2\"}, \"topic.order\": [1, 2, 3, 4]};\n",
       "\n",
       "function LDAvis_load_lib(url, callback){\n",
       "  var s = document.createElement('script');\n",
       "  s.src = url;\n",
       "  s.async = true;\n",
       "  s.onreadystatechange = s.onload = callback;\n",
       "  s.onerror = function(){console.warn(\"failed to load library \" + url);};\n",
       "  document.getElementsByTagName(\"head\")[0].appendChild(s);\n",
       "}\n",
       "\n",
       "if(typeof(LDAvis) !== \"undefined\"){\n",
       "   // already loaded: just create the visualization\n",
       "   !function(LDAvis){\n",
       "       new LDAvis(\"#\" + \"ldavis_el161451402076208199208857700680\", ldavis_el161451402076208199208857700680_data);\n",
       "   }(LDAvis);\n",
       "}else if(typeof define === \"function\" && define.amd){\n",
       "   // require.js is available: use it to load d3/LDAvis\n",
       "   require.config({paths: {d3: \"https://cdnjs.cloudflare.com/ajax/libs/d3/3.5.5/d3.min\"}});\n",
       "   require([\"d3\"], function(d3){\n",
       "      window.d3 = d3;\n",
       "      LDAvis_load_lib(\"https://cdn.rawgit.com/bmabey/pyLDAvis/files/ldavis.v1.0.0.js\", function(){\n",
       "        new LDAvis(\"#\" + \"ldavis_el161451402076208199208857700680\", ldavis_el161451402076208199208857700680_data);\n",
       "      });\n",
       "    });\n",
       "}else{\n",
       "    // require.js not available: dynamically load d3 & LDAvis\n",
       "    LDAvis_load_lib(\"https://cdnjs.cloudflare.com/ajax/libs/d3/3.5.5/d3.min.js\", function(){\n",
       "         LDAvis_load_lib(\"https://cdn.rawgit.com/bmabey/pyLDAvis/files/ldavis.v1.0.0.js\", function(){\n",
       "                 new LDAvis(\"#\" + \"ldavis_el161451402076208199208857700680\", ldavis_el161451402076208199208857700680_data);\n",
       "            })\n",
       "         });\n",
       "}\n",
       "</script>"
      ],
      "text/plain": [
       "PreparedData(topic_coordinates=              x         y  topics  cluster       Freq\n",
       "topic                                                \n",
       "0     -0.000099 -0.007734       1        1  20.141882\n",
       "1      0.011070  0.009091       2        1  26.801142\n",
       "2     -0.013238  0.006341       3        1  29.584116\n",
       "3      0.002267 -0.007698       4        1  23.472860, topic_info=            Term      Freq     Total Category  logprob  loglift\n",
       "121      pytorch  0.000000  0.000000  Default  30.0000  30.0000\n",
       "1408        gdal  0.000000  0.000000  Default  29.0000  29.0000\n",
       "557       binary  0.000000  0.000000  Default  28.0000  28.0000\n",
       "161      average  0.000000  0.000000  Default  27.0000  27.0000\n",
       "1786        tile  0.000000  0.000000  Default  26.0000  26.0000\n",
       "...          ...       ...       ...      ...      ...      ...\n",
       "213   processing  0.149396  0.448615   Topic4  -6.7848   0.3498\n",
       "88     currently  0.120891  0.300631   Topic4  -6.9966   0.5383\n",
       "1282      object  0.124262  0.406050   Topic4  -6.9690   0.2652\n",
       "211         open  0.123863  0.452614   Topic4  -6.9723   0.1535\n",
       "310         data  0.122456  0.693326   Topic4  -6.9837  -0.2844\n",
       "\n",
       "[201 rows x 6 columns], token_table=Empty DataFrame\n",
       "Columns: [Topic, Freq, Term]\n",
       "Index: [], R=30, lambda_step=0.01, plot_opts={'xlab': 'PC1', 'ylab': 'PC2'}, topic_order=[1, 2, 3, 4])"
      ]
     },
     "execution_count": 314,
     "metadata": {},
     "output_type": "execute_result"
    }
   ],
   "source": [
    "import pyLDAvis.gensim\n",
    "import pickle \n",
    "import pyLDAvis\n",
    "\n",
    "# Visualize the topics\n",
    "pyLDAvis.enable_notebook()\n",
    "\n",
    "LDAvis_prepared = pyLDAvis.gensim.prepare(lda_model_2, corpus_tfidf, dictionary,sort_topics=False)\n",
    "LDAvis_prepared"
   ]
  },
  {
   "cell_type": "code",
   "execution_count": 134,
   "metadata": {},
   "outputs": [
    {
     "data": {
      "text/plain": [
       "'puppeteer is a node library which provides a high-level api to control chrome or chromium over the devtools protocol puppeteer runs headless by default but can be configured to run full (non-headless) chrome or chromium'"
      ]
     },
     "execution_count": 134,
     "metadata": {},
     "output_type": "execute_result"
    }
   ],
   "source": [
    "df['excerpt'][2]"
   ]
  },
  {
   "cell_type": "code",
   "execution_count": 766,
   "metadata": {},
   "outputs": [
    {
     "name": "stdout",
     "output_type": "stream",
     "text": [
      "advantage\n",
      "afterward\n",
      "alabama\n",
      "also\n",
      "alternative\n",
      "anaconda\n",
      "archive\n",
      "automatically\n",
      "case\n",
      "change\n",
      "changes\n",
      "click\n",
      "clone\n",
      "comands\n",
      "command\n",
      "commands\n",
      "computer\n",
      "condaio\n",
      "could\n",
      "desktop\n",
      "developed\n",
      "directly\n",
      "directory\n",
      "download\n",
      "downloaded\n",
      "earlier\n",
      "easily\n",
      "either\n",
      "email\n",
      "enabled\n",
      "enter\n",
      "example\n",
      "extract\n",
      "field\n",
      "files\n",
      "finished\n",
      "first\n",
      "fixed\n",
      "folder\n",
      "follow\n",
      "following\n",
      "forget\n",
      "free\n",
      "generated\n",
      "getting\n",
      "github\n",
      "githubcom\n",
      "gprpy\n",
      "gprpygit\n",
      "gprpysoftware\n",
      "ground\n",
      "hear\n",
      "help\n",
      "initialize\n",
      "installation\n",
      "installed\n",
      "instead\n",
      "instructions\n",
      "interface\n",
      "issue\n",
      "january\n",
      "june\n",
      "latter\n",
      "like\n",
      "linux\n",
      "marcus\n",
      "marks\n",
      "master\n",
      "masterzip\n",
      "minicondahtml\n",
      "mode\n",
      "multiples\n",
      "myscriptnamepy\n",
      "name\n",
      "news\n",
      "nsgeophysics\n",
      "onto\n",
      "open\n",
      "origin\n",
      "pacheco\n",
      "penetrating\n",
      "period\n",
      "picking\n",
      "please\n",
      "pointing\n",
      "points\n",
      "post\n",
      "press\n",
      "processing\n",
      "profile\n",
      "programs\n",
      "prompt\n",
      "pull\n",
      "quotation\n",
      "radar\n",
      "recent\n",
      "regular\n",
      "replace\n",
      "running\n",
      "save\n",
      "scmcom\n",
      "script\n",
      "scripts\n",
      "search\n",
      "select\n",
      "send\n",
      "several\n",
      "shown\n",
      "simplemost\n",
      "simply\n",
      "small\n",
      "software\n",
      "somewhere\n",
      "source\n",
      "start\n",
      "switch\n",
      "system\n",
      "take\n",
      "terminal\n",
      "thanks\n",
      "time\n",
      "trouble\n",
      "troubles\n",
      "tweets\n",
      "twitter\n",
      "type\n",
      "uninstall\n",
      "uninstalling\n",
      "university\n",
      "update\n",
      "updates\n",
      "user\n",
      "usually\n",
      "version\n",
      "versions\n",
      "visualization\n",
      "want\n",
      "warr\n",
      "windows\n",
      "without\n"
     ]
    }
   ],
   "source": [
    "for a,b in bow_corpus[0]:\n",
    "    print(dictionary[a])"
   ]
  },
  {
   "cell_type": "code",
   "execution_count": 292,
   "metadata": {},
   "outputs": [],
   "source": [
    "text = 'this is a visualization software'"
   ]
  },
  {
   "cell_type": "code",
   "execution_count": 293,
   "metadata": {},
   "outputs": [
    {
     "data": {
      "text/plain": [
       "['visualization', 'software']"
      ]
     },
     "execution_count": 293,
     "metadata": {},
     "output_type": "execute_result"
    }
   ],
   "source": [
    "preprocess(new_doc)"
   ]
  },
  {
   "cell_type": "code",
   "execution_count": 294,
   "metadata": {},
   "outputs": [
    {
     "name": "stdout",
     "output_type": "stream",
     "text": [
      "Score: 0.9562720656394958\t Topic: 2\n",
      "Score: 0.022907469421625137\t Topic: 0\n",
      "Score: 0.02082052081823349\t Topic: 1\n"
     ]
    }
   ],
   "source": [
    "\n",
    "bow_vector = dictionary.doc2bow(preprocess(text))\n",
    "for index, score in sorted(lda_model_1[bow_vector][0], key=lambda tup: -1*tup[1]):\n",
    "    print(\"Score: {}\\t Topic: {}\".format(score, index))"
   ]
  },
  {
   "cell_type": "code",
   "execution_count": 117,
   "metadata": {},
   "outputs": [
    {
     "data": {
      "text/plain": [
       "[(0, 0.020285627), (1, 0.025061116), (2, 0.9546533)]"
      ]
     },
     "execution_count": 117,
     "metadata": {},
     "output_type": "execute_result"
    }
   ],
   "source": [
    "lda_model_1[bow_vector][0]"
   ]
  },
  {
   "cell_type": "code",
   "execution_count": 127,
   "metadata": {},
   "outputs": [
    {
     "data": {
      "text/plain": [
       "[(10, 1),\n",
       " (79, 1),\n",
       " (97, 1),\n",
       " (124, 1),\n",
       " (164, 1),\n",
       " (184, 1),\n",
       " (188, 1),\n",
       " (221, 2),\n",
       " (243, 1),\n",
       " (247, 1),\n",
       " (356, 1),\n",
       " (383, 1),\n",
       " (421, 2),\n",
       " (444, 3),\n",
       " (447, 1),\n",
       " (461, 1),\n",
       " (475, 2),\n",
       " (477, 1),\n",
       " (494, 1),\n",
       " (507, 1),\n",
       " (565, 1),\n",
       " (637, 1),\n",
       " (650, 1),\n",
       " (887, 1),\n",
       " (1292, 3),\n",
       " (1298, 1),\n",
       " (1299, 1),\n",
       " (1300, 1),\n",
       " (1301, 1),\n",
       " (1302, 2),\n",
       " (1303, 1),\n",
       " (1304, 1),\n",
       " (1305, 1),\n",
       " (1306, 1),\n",
       " (1307, 1),\n",
       " (1308, 1),\n",
       " (1309, 1),\n",
       " (1310, 1),\n",
       " (1311, 1),\n",
       " (1312, 1),\n",
       " (1313, 1),\n",
       " (1314, 1),\n",
       " (1315, 1),\n",
       " (1316, 1),\n",
       " (1317, 1),\n",
       " (1318, 1),\n",
       " (1319, 1),\n",
       " (1320, 1),\n",
       " (1321, 3),\n",
       " (1322, 1)]"
      ]
     },
     "execution_count": 127,
     "metadata": {},
     "output_type": "execute_result"
    }
   ],
   "source": [
    "bow_corpus[43]"
   ]
  },
  {
   "cell_type": "code",
   "execution_count": null,
   "metadata": {},
   "outputs": [],
   "source": []
  }
 ],
 "metadata": {
  "kernelspec": {
   "display_name": "Python 3",
   "language": "python",
   "name": "python3"
  },
  "language_info": {
   "codemirror_mode": {
    "name": "ipython",
    "version": 3
   },
   "file_extension": ".py",
   "mimetype": "text/x-python",
   "name": "python",
   "nbconvert_exporter": "python",
   "pygments_lexer": "ipython3",
   "version": "3.7.6"
  }
 },
 "nbformat": 4,
 "nbformat_minor": 4
}
